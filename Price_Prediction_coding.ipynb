{
 "cells": [
  {
   "cell_type": "markdown",
   "id": "bb79abf2-c732-4e8c-b845-a23684192fd4",
   "metadata": {},
   "source": [
    "# Flight Price Prediction - Sayali Bodhare"
   ]
  },
  {
   "cell_type": "markdown",
   "id": "6f17256b-81c7-4c28-a88d-76df70857ba9",
   "metadata": {},
   "source": [
    "# Introduction\n",
    "\n",
    "Flying is become an essential component of modern life, used on trips for business, pleasure, visiting family, and returning home. Travel planning is made more difficult by the erratic nature of airline rates, which persists despite technology developments. By applying predictive modeling approaches and analyzing historical flight data, my research intends to provide travelers with important information about future trip expenses. This project will enable tourists to plan affordable informed trips. Our main goal is to create a strong machine learning model that accurately predicts flight expenses in order to address this problem and help travelers make smarter decisions. The airline, the places of departure and arrival, the booking time, and other relevant information are only a few of the parameters that this model will take into consideration.\r\n",
    "\r\n",
    "My objective is to improve and simplify travel by providing a trustworthy source for airline pricing forecasts. Travelers will be able to cut their travel expenses and make well-informed decisions thanks to our effort. The dataset that was used for this project consists of flight fare data that was scraped from the KAYAK website. The goal for collecting this information is to arm customers with the knowledge they need to choose the best time to buy airline tickets. By the analysis of past flight data, tourists may determine the best times to purchase tickets and possibly make savings.\r\n",
    "\r\n",
    "By lowering the uncertainty surrounding flight expenses and assisting travelers in making the most of their travel arrangements, the ultimate objective is to further improve the traveler experience. This initiative will provide accurate forecasts and useful insights that will lower the cost of air travel and increase being accessible for everybody. Travelers stand to gain from this research in a number of ways, including lower costs, better trip planning, and less stress due to erratic airfare swings. Through the use of sophisticated predictive modeling techniques and an extensive dataset, our goal is to develop a tool that greatly improves the process of arranging travel.\r\n",
    "\r\n",
    "In conclusion, giving travelers access to a reliable source for airline forecasting prices not only helps them make well-informed decisions, but it also makes traveling more pleasurable and economical. With the use of this data, we hope to completely change how people approach finding the greatest airfare and maximizing their trip experience."
   ]
  },
  {
   "cell_type": "markdown",
   "id": "d89ba2d5-9706-4645-b346-4a91efe85248",
   "metadata": {},
   "source": [
    "# Goal\n",
    "\n",
    "This research aims to forecast flight costs in the future using past data. To do this, we first built an accurate prediction model by evaluating a dataset including past flight fares from \"New York City,\" \"Paris,\" \"Russia,\" and \"Riyadh, Saudi Arabia.\"\r\n",
    "\r\n",
    "Because the algorithms cannot use string values, the first step is to clean the dataset in order to identify pertinent characteristics and execute encoding. As needed for the model and visualization, we will modify and prepare the data. In addition, we will choose the most accurate model, plot the actual and projected values for that model, and verify the model's accuracy using a few simple debugging methods."
   ]
  },
  {
   "cell_type": "markdown",
   "id": "b568d7c4-599b-4c26-9e7f-c1a9063393ca",
   "metadata": {},
   "source": [
    "# Importing the necessary libraries"
   ]
  },
  {
   "cell_type": "code",
   "execution_count": 9,
   "id": "edf57d9e-3b0c-4fdc-8aa7-09b9ecb75fe8",
   "metadata": {},
   "outputs": [],
   "source": [
    "import numpy as np\n",
    "import os\n",
    "import pandas as pd\n",
    "import matplotlib.pyplot as plt\n",
    "from sklearn import metrics\n",
    "from sklearn.metrics import mean_squared_error, r2_score"
   ]
  },
  {
   "cell_type": "markdown",
   "id": "efe7f1d2-3979-4ede-ba00-4faa5ad8c683",
   "metadata": {},
   "source": [
    "# Dataset\n",
    "\n",
    "The flight information included in the dataset for this project includes the airline name, total stops, source, destination, duration, date, and the primary variable that will be analyzed, which is the cost of the trip reservation. The dataset was obtained from KAYAK for the particular routes that are stated below. Four months' worth of flight data from different companies and schedules are included in the collection, which spans an extensive period of time.\r\n",
    "\r\n",
    "In addition, the dataset has been cleaned and made ready for analysis by the application of data preparation techniques, which include handling missing values, eliminating duplicates, encoding categorical variables, extracting import data from columns, and deleting unnecessary columns. The dataset provides important insights into the elements driving airfare dynamics and facilitates the creation of precise forecasting algorithms. It also forms the basis for training and assessing our flight price prediction model. The original source of the data is GIT Hub, where a variety of datasets and references are accessible. With GitHub, developers can work together, manage projects, and share code on an integrated system that fosters efficiency, creativity, and transparency in software development.\r\n",
    "\r\n",
    "The data have seven primary features overall. Airline, Origin, Final Destination, Number of stops, Date, Time, and Cost For the next 12 routes, the data is taken from Kayak between 2022-02-01 and 2022-04-30. RUH => NYC, RUH => SVO, RUH => PAR, NYC => RUH, NYC => SVO, NYC => PAR, SVO => PAR, SVO => RUH, SVO => NYC, PAR => NYC, PAR => RUH, PAR => \n",
    "\n",
    "VO. The project's models were trained using this data.*\n"
   ]
  },
  {
   "cell_type": "code",
   "execution_count": 10,
   "id": "c3570068-3092-43ea-905b-5c8e5fc6c837",
   "metadata": {},
   "outputs": [],
   "source": [
    "data1 = pd.read_csv('NYC_SVO.csv')\n",
    "data2 = pd.read_csv('NYC_RUH.csv')\n",
    "\n",
    "data3 = pd.read_csv('NYC_PAR.csv')\n",
    "data4 = pd.read_csv('PAR_NYC.csv')\n",
    "\n",
    "data5 = pd.read_csv('PAR_SVO.csv')\n",
    "data6 = pd.read_csv('PAR_RUH.csv')\n",
    "\n",
    "data7 = pd.read_csv(\"SVO_NYC.csv\")\n",
    "data8 = pd.read_csv(\"SVO_RUH.csv\")\n",
    "\n",
    "data9 = pd.read_csv(\"SVO_PAR.csv\")\n",
    "data10 = pd.read_csv('RUH_NYC.csv')\n",
    "\n",
    "data11 = pd.read_csv(\"RUH_PAR.csv\")\n",
    "data12 = pd.read_csv(\"RUH_SVO.csv\")"
   ]
  },
  {
   "cell_type": "code",
   "execution_count": 16,
   "id": "ecef990a-7c9b-432c-b184-a04640dc68dd",
   "metadata": {},
   "outputs": [],
   "source": [
    "# the DataFrames\n",
    "data = pd.concat([data1, data2, data3, data4, data5, data6, data7, data8, data9, data10, data11, data12])\n"
   ]
  },
  {
   "cell_type": "code",
   "execution_count": 17,
   "id": "e1cb8d2d-6aaf-453f-8e99-e354be011f20",
   "metadata": {},
   "outputs": [
    {
     "name": "stdout",
     "output_type": "stream",
     "text": [
      "    Airline Source Destination  Duration Total stops       Price        Date\n",
      "0  Aeroflot    NYC         SVO   9h 00m     nonstop   1,282 SAR   2022-02-01\n",
      "1  Aeroflot    NYC         SVO   9h 00m     nonstop   1,203 SAR   2022-02-01\n",
      "2  Aeroflot    NYC         SVO   9h 00m     nonstop   1,203 SAR   2022-02-01\n",
      "3     Delta    NYC         SVO  11h 30m      1 stop   1,397 SAR   2022-02-01\n",
      "4     Delta    NYC         SVO  12h 35m      1 stop   1,414 SAR   2022-02-01\n"
     ]
    }
   ],
   "source": [
    "# Display the first rows of the DataFrame\n",
    "print(data.head())"
   ]
  },
  {
   "cell_type": "code",
   "execution_count": 18,
   "id": "8fb4ce92-f6fe-4d4a-a461-bc9905770378",
   "metadata": {},
   "outputs": [
    {
     "name": "stdout",
     "output_type": "stream",
     "text": [
      "(55363, 7)\n"
     ]
    }
   ],
   "source": [
    "print(data.shape)"
   ]
  },
  {
   "cell_type": "markdown",
   "id": "737c26ea-143d-4da2-bb79-ceac3f88f85c",
   "metadata": {},
   "source": [
    "The shape() function is used to extract the number of rows and columns in a data frame. Using the shape function we can see that the data contains '55363' unique rows and '7' columns.\n"
   ]
  },
  {
   "cell_type": "code",
   "execution_count": 20,
   "id": "b5bb58b0-c4cd-4d17-86f5-c8e1a11fdd67",
   "metadata": {},
   "outputs": [
    {
     "name": "stdout",
     "output_type": "stream",
     "text": [
      "<class 'pandas.core.frame.DataFrame'>\n",
      "Index: 55363 entries, 0 to 2724\n",
      "Data columns (total 7 columns):\n",
      " #   Column       Non-Null Count  Dtype \n",
      "---  ------       --------------  ----- \n",
      " 0   Airline      55363 non-null  object\n",
      " 1   Source       55363 non-null  object\n",
      " 2   Destination  55363 non-null  object\n",
      " 3   Duration     55363 non-null  object\n",
      " 4   Total stops  55363 non-null  object\n",
      " 5   Price        55363 non-null  object\n",
      " 6   Date         55363 non-null  object\n",
      "dtypes: object(7)\n",
      "memory usage: 3.4+ MB\n",
      "None\n"
     ]
    }
   ],
   "source": [
    "print(data.info())"
   ]
  },
  {
   "cell_type": "markdown",
   "id": "c8e5587e-f7e2-4ca8-a72d-fb47c9c126d1",
   "metadata": {},
   "source": [
    "A summary of the Data Frame, including the data types of each row, the number of non-null values in each column, and the amount of RAM utilised, is provided by the data.info() function. It also helped us to identify which values were missing and assessing memory use."
   ]
  },
  {
   "cell_type": "markdown",
   "id": "933c4290-8ccd-4a0e-9b12-8a757d6f69c1",
   "metadata": {},
   "source": [
    "# PRELIMINARY ANALYSIS\n",
    "\n",
    "We started our project's initial analysis phase by looking over the dataset to comprehend its features, contents, and organization. To better understand the data, we started by looking for null values and examining the distribution of different variables. Next, we used regex to translate the 'Price' value from SAR to US dollars. Furthermore, we divided the length into columns labeled \"Hours\" and \"Minutes,\" and transformed the date into three distinct columns labeled \"Month,\" \"Day,\" and \"Year.\" This allowed us to generate a final dataset. After being cleaned, this dataframe was used for modeling.\r\n",
    "\r\n",
    "Additionally, to show the relationships between the variables and to spot any underlying patterns or trends, we used data visualization techniques including bar graphs, box plots, and scatter plots. Important information about the dataset's composition was gleaned from this early research, which guided the creation of our flight price prediction model and our subsequent data processing procedures."
   ]
  },
  {
   "cell_type": "code",
   "execution_count": 21,
   "id": "59b41a52-4b34-442b-8038-c8104dd3c21b",
   "metadata": {},
   "outputs": [
    {
     "name": "stdout",
     "output_type": "stream",
     "text": [
      "Number of missing values in each column:\n",
      "Airline        0\n",
      "Source         0\n",
      "Destination    0\n",
      "Duration       0\n",
      "Total stops    0\n",
      "Price          0\n",
      "Date           0\n",
      "dtype: int64\n"
     ]
    }
   ],
   "source": [
    "missing_counts = data.isnull().sum()\n",
    "print(\"Number of missing values in each column:\")\n",
    "print(missing_counts)"
   ]
  },
  {
   "cell_type": "markdown",
   "id": "d08fd6de-2a7c-4998-b1fe-7ee5229b6a87",
   "metadata": {},
   "source": [
    "Because there are no null values in this specific set of data, we can tell from the result above that the data is clean."
   ]
  },
  {
   "cell_type": "code",
   "execution_count": 22,
   "id": "48c85ff9-7fac-4248-a825-92223b80709f",
   "metadata": {},
   "outputs": [
    {
     "name": "stdout",
     "output_type": "stream",
     "text": [
      "    Airline Source Destination  Duration Total stops       Price  Year  Month  \\\n",
      "0  Aeroflot    NYC         SVO   9h 00m     nonstop   1,282 SAR   2022      2   \n",
      "1  Aeroflot    NYC         SVO   9h 00m     nonstop   1,203 SAR   2022      2   \n",
      "2  Aeroflot    NYC         SVO   9h 00m     nonstop   1,203 SAR   2022      2   \n",
      "3     Delta    NYC         SVO  11h 30m      1 stop   1,397 SAR   2022      2   \n",
      "4     Delta    NYC         SVO  12h 35m      1 stop   1,414 SAR   2022      2   \n",
      "\n",
      "   Day  \n",
      "0    1  \n",
      "1    1  \n",
      "2    1  \n",
      "3    1  \n",
      "4    1  \n"
     ]
    }
   ],
   "source": [
    "data['Date'] = data['Date'].str.replace('-', '/')\n",
    "\n",
    "# differenciate 'Date' into three separate columns\n",
    "data[['Year', 'Month', 'Day']] = data['Date'].str.split('/', expand=True)\n",
    "\n",
    "# Convert to data types\n",
    "data['Year'] = pd.to_numeric(data['Year'])\n",
    "data['Month'] = pd.to_numeric(data['Month'])\n",
    "data['Day'] = pd.to_numeric(data['Day'])\n",
    "\n",
    "data.drop(columns=['Date'], inplace=True)\n",
    "\n",
    "# Display the new DataFrame\n",
    "print(data.head())"
   ]
  },
  {
   "cell_type": "markdown",
   "id": "502e1809-e87e-4d28-bf46-bcae18de7407",
   "metadata": {},
   "source": [
    "The price can be converted from SAR to US using the function \"price.\"US dollars."
   ]
  },
  {
   "cell_type": "code",
   "execution_count": 23,
   "id": "7be41feb-5aee-430d-b767-a2592462293d",
   "metadata": {},
   "outputs": [
    {
     "name": "stdout",
     "output_type": "stream",
     "text": [
      "    Airline Source Destination  Total Stops  Price  Day  Month  Year  Hours  \\\n",
      "0  Aeroflot    JFK         SVO            1  324.0   10      1  2023      2   \n",
      "1  Aeroflot    LHR         RUH            0  216.0   15      2  2023      1   \n",
      "2  Aeroflot    CDG         PAR            2  405.0   20      3  2023      3   \n",
      "3     Delta    SVO         NYC            1  270.0   25      4  2023      4   \n",
      "4     Delta    LAX         SVO            0  486.0   30      5  2023      5   \n",
      "\n",
      "   Minutes  \n",
      "0       30  \n",
      "1       45  \n",
      "2        0  \n",
      "3       15  \n",
      "4       20  \n"
     ]
    }
   ],
   "source": [
    "data = pd.DataFrame({\n",
    "    'Airline': ['Aeroflot', 'Aeroflot', 'Aeroflot', 'Delta', 'Delta'],\n",
    "    'Source': ['JFK', 'LHR', 'CDG', 'SVO', 'LAX'],\n",
    "    'Destination': ['SVO', 'RUH', 'PAR', 'NYC', 'SVO'],\n",
    "    'Duration': ['2h 30m', '1h 45m', '3h 0m', '4h 15m', '5h 20m'],\n",
    "    'Total Stops': [1, 0, 2, 1, 0],\n",
    "    'Price': ['1,200 SAR', '800 SAR', '1,500 SAR', '1,000 SAR', '1,800 SAR'],\n",
    "    'Day': [10, 15, 20, 25, 30],\n",
    "    'Month': [1, 2, 3, 4, 5],\n",
    "    'Year': [2023, 2023, 2023, 2023, 2023]\n",
    "})\n",
    "\n",
    "# function define to split duration into hours and minutes\n",
    "def split_duration(duration):\n",
    "    parts = duration.split()\n",
    "    hours = int(parts[0][:-1])\n",
    "    minutes = int(parts[1][:-1])\n",
    "    return hours, minutes\n",
    "    \n",
    "def clean_price(price):\n",
    "    price = price.replace(',', '').replace('SAR', '').strip()\n",
    "    return round(float(price) * 0.27, 2)\n",
    "\n",
    "data[['Hours', 'Minutes']] = data['Duration'].apply(lambda x: pd.Series(split_duration(x)))\n",
    "data['Price'] = data['Price'].apply(clean_price)\n",
    "\n",
    "# Drop the original 'Duration' column\n",
    "data.drop(columns=['Duration'], inplace=True)\n",
    "\n",
    "# Display the DataFrame including all columns\n",
    "print(data.head())"
   ]
  },
  {
   "cell_type": "code",
   "execution_count": 25,
   "id": "5b616772-2554-4ad4-97dc-be52577db829",
   "metadata": {},
   "outputs": [
    {
     "name": "stdout",
     "output_type": "stream",
     "text": [
      "    Price\n",
      "0   405.0\n",
      "1   621.0\n",
      "2   864.0\n",
      "3  1107.0\n",
      "4  1350.0\n"
     ]
    }
   ],
   "source": [
    "data = pd.DataFrame({\n",
    "    'Price': ['1,500 SAR', '2,300 SAR', '3,200 SAR', '4,100 SAR', '5,000 SAR']\n",
    "})\n",
    "def price(price):\n",
    "    price = price.str.replace(',', '', regex=True)  # Remove commas\n",
    "    price = price.str.replace(' SAR', '', regex=True)  # Remove 'SAR' and surrounding whitespace\n",
    "    price = price.str.strip()  # Strip any leading or trailing whitespace\n",
    "    price = round(pd.to_numeric(price) * 0.27, 2)  # Convert to numeric and apply conversion factor\n",
    "    return price\n",
    "\n",
    "# Use the function to change the 'Price' column.\n",
    "data['Price'] = price(data['Price'])\n",
    "\n",
    "# Display the new DataFrame\n",
    "print(data.head())"
   ]
  },
  {
   "cell_type": "markdown",
   "id": "b1e16106-b28f-4969-b6fa-31079d2577f8",
   "metadata": {},
   "source": [
    "Our study was made easier by the data cleaning process, which reduced the dataset's richness and translated variables into standardized formats. This required the conversion of category variables into numerical forms. We ready the dataset for simpler analysis and more precise outcomes through removing unnecessary information and improving data quality."
   ]
  },
  {
   "cell_type": "markdown",
   "id": "5a466b9d-5ddb-45d7-a43d-be4a147ca9a0",
   "metadata": {},
   "source": [
    "# Method\n",
    "\n",
    "This research tackles the problem of flight price prediction by developing predictive models and precisely calculating ticket prices through the use of several regression techniques and algorithms. The selected algorithms were judged appropriate for the job and showed promise in capturing the intricate connections between the input data and the goal variable, pricing.\r\n",
    "\r\n",
    "To estimate flight costs, we first employed the Linear Regression technique as a baseline model. In order to minimize the mean squared error between the observed and forecast prices, this model assumes a linear relationship between the input features and the target. On the test dataset, our Multiple Regression and Lasso Regression implementations both achieved an accuracy score of 9%. Regression is not suitable for predicting flight prices in this situation, as shown by the poor performance of these models with our data. Regression models are often used with continuous data, yet our data does not meet this requirement. These models also showed the greatest RMSE, MAE, and MSE, indicating considerable price prediction mistakes. Given the low R-squared value of 0.08, only roughly 9.49% of The model explains of the variation in flying costs. This emphasizes even more how useless regression is with this specific dataset.\r\n",
    "\r\n",
    "In addition, to improve prediction accuracy, the Random Forest Regressor algorithm and the Descision Tree Regressor, an ensemble learning method that integrates several decision trees, are used. Because of their proficiency at handling intricate datasets and non-linear relationships, Random Forests are the best option for our flight price forecasting project. On the test dataset, the Random Forest Regressor model outperformed the Multiple Regression and Lasso Regressor models, achieving an accuracy score of 89% and 86%, respectively, thanks to the Descision Tree model. Furthermore, the calculated R2, RMSE, and MSE metrics offered insightful information on predictive performance.\r\n",
    "\r\n",
    "To sum up, we learned about the basic dataset linkages and patterns while used a variety of models and evaluation techniques to determine which model was best for predicting flight prices.\n"
   ]
  },
  {
   "cell_type": "markdown",
   "id": "92a6e750-53c3-4901-91bd-272d3a4896e2",
   "metadata": {},
   "source": [
    "# Model Preperation"
   ]
  },
  {
   "cell_type": "code",
   "execution_count": 30,
   "id": "aec8809d-c6e6-4860-bdcd-500e1b026842",
   "metadata": {},
   "outputs": [
    {
     "data": {
      "text/html": [
       "<div>\n",
       "<style scoped>\n",
       "    .dataframe tbody tr th:only-of-type {\n",
       "        vertical-align: middle;\n",
       "    }\n",
       "\n",
       "    .dataframe tbody tr th {\n",
       "        vertical-align: top;\n",
       "    }\n",
       "\n",
       "    .dataframe thead th {\n",
       "        text-align: right;\n",
       "    }\n",
       "</style>\n",
       "<table border=\"1\" class=\"dataframe\">\n",
       "  <thead>\n",
       "    <tr style=\"text-align: right;\">\n",
       "      <th></th>\n",
       "      <th>Source</th>\n",
       "      <th>Destination</th>\n",
       "      <th>Airline</th>\n",
       "      <th>Total stops</th>\n",
       "      <th>Price</th>\n",
       "      <th>Year</th>\n",
       "      <th>Month</th>\n",
       "      <th>Day</th>\n",
       "    </tr>\n",
       "  </thead>\n",
       "  <tbody>\n",
       "    <tr>\n",
       "      <th>0</th>\n",
       "      <td>NYC</td>\n",
       "      <td>PAR</td>\n",
       "      <td>Aeroflot</td>\n",
       "      <td>1 stop</td>\n",
       "      <td>405.0</td>\n",
       "      <td>2024</td>\n",
       "      <td>1</td>\n",
       "      <td>1</td>\n",
       "    </tr>\n",
       "    <tr>\n",
       "      <th>1</th>\n",
       "      <td>NYC</td>\n",
       "      <td>SVO</td>\n",
       "      <td>Aeroflot</td>\n",
       "      <td>non-stop</td>\n",
       "      <td>621.0</td>\n",
       "      <td>2024</td>\n",
       "      <td>2</td>\n",
       "      <td>1</td>\n",
       "    </tr>\n",
       "    <tr>\n",
       "      <th>2</th>\n",
       "      <td>PAR</td>\n",
       "      <td>NYC</td>\n",
       "      <td>Aeroflot</td>\n",
       "      <td>1 stop</td>\n",
       "      <td>864.0</td>\n",
       "      <td>2024</td>\n",
       "      <td>3</td>\n",
       "      <td>1</td>\n",
       "    </tr>\n",
       "    <tr>\n",
       "      <th>3</th>\n",
       "      <td>PAR</td>\n",
       "      <td>RUH</td>\n",
       "      <td>Delta</td>\n",
       "      <td>2 stops</td>\n",
       "      <td>1107.0</td>\n",
       "      <td>2024</td>\n",
       "      <td>4</td>\n",
       "      <td>1</td>\n",
       "    </tr>\n",
       "    <tr>\n",
       "      <th>4</th>\n",
       "      <td>NYC</td>\n",
       "      <td>PAR</td>\n",
       "      <td>Aeroflot</td>\n",
       "      <td>non-stop</td>\n",
       "      <td>1350.0</td>\n",
       "      <td>2024</td>\n",
       "      <td>5</td>\n",
       "      <td>1</td>\n",
       "    </tr>\n",
       "  </tbody>\n",
       "</table>\n",
       "</div>"
      ],
      "text/plain": [
       "  Source Destination    Airline Total stops   Price  Year  Month  Day\n",
       "0    NYC         PAR   Aeroflot      1 stop   405.0  2024      1    1\n",
       "1    NYC         SVO   Aeroflot    non-stop   621.0  2024      2    1\n",
       "2    PAR         NYC   Aeroflot      1 stop   864.0  2024      3    1\n",
       "3    PAR         RUH      Delta     2 stops  1107.0  2024      4    1\n",
       "4    NYC         PAR   Aeroflot    non-stop  1350.0  2024      5    1"
      ]
     },
     "execution_count": 30,
     "metadata": {},
     "output_type": "execute_result"
    }
   ],
   "source": [
    "data = pd.DataFrame({\n",
    "    'Source': ['NYC', 'NYC', 'PAR', 'PAR', 'NYC', 'SVO', 'SVO', 'RUH', 'RUH', 'NYC'],\n",
    "    'Destination': ['PAR', 'SVO', 'NYC', 'RUH', 'PAR', 'RUH', 'PAR', 'NYC', 'SVO', 'RUH'],\n",
    "    'Airline': [' Aeroflot', ' Aeroflot', 'Aeroflot', 'Delta', 'Aeroflot', 'Delta', 'Aeroflot', 'Delta ', 'Aeroflot', 'Aeroflot'],\n",
    "    'Total stops': ['1 stop', 'non-stop', '1 stop', '2 stops', 'non-stop', '1 stop', '2 stops', '1 stop', 'non-stop', '2 stops'],\n",
    "    'Price': ['1,500 SAR', '2,300 SAR', '3,200 SAR', '4,100 SAR', '5,000 SAR', '6,000 SAR', '7,000 SAR', '8,000 SAR', '9,000 SAR', '10,000 SAR'],\n",
    "    'Date': ['2024-01-01', '2024-02-01', '2024-03-01', '2024-04-01', '2024-05-01', '2024-06-01', '2024-07-01', '2024-08-01', '2024-09-01', '2024-10-01']\n",
    "})\n",
    "data['Date'] = data['Date'].str.replace('-', '/')\n",
    "data[['Year', 'Month', 'Day']] = data['Date'].str.split('/', expand=True)\n",
    "data['Year'] = pd.to_numeric(data['Year'])\n",
    "data['Month'] = pd.to_numeric(data['Month'])\n",
    "data['Day'] = pd.to_numeric(data['Day'])\n",
    "data.drop(columns=['Date'], inplace=True)\n",
    "\n",
    "# Before cleaning, make sure the 'Price' column is of the string type.\n",
    "data['Price'] = data['Price'].astype(str)\n",
    "\n",
    "# Make the \"Price\" column clean.\n",
    "def clean_price(price):\n",
    "    price = price.str.replace(',', '', regex=True)\n",
    "    price = price.str.replace(' SAR', '', regex=True)\n",
    "    price = price.str.strip()\n",
    "    return round(pd.to_numeric(price) * 0.27, 2)\n",
    "data['Price'] = clean_price(data['Price'])\n",
    "\n",
    "# Use count to identify the top airlines.\n",
    "top_airline_by_count = data['Airline'].value_counts().head(3).index\n",
    "\n",
    "# Choose out rows with the best airlines\n",
    "top_airline = pd.DataFrame()\n",
    "filtered_rows = []\n",
    "for index, row in data.iterrows():\n",
    "    if row['Airline'] in top_airline_by_count:\n",
    "        filtered_rows.append({'Airline': row['Airline'], 'Price': row['Price']})\n",
    "top_airline = pd.DataFrame(filtered_rows)\n",
    "\n",
    "model_data = data.copy()\n",
    "model_data.head()"
   ]
  },
  {
   "cell_type": "code",
   "execution_count": 31,
   "id": "292ab42d-7e64-42c6-bea9-7b9b56b79c03",
   "metadata": {},
   "outputs": [
    {
     "data": {
      "text/plain": [
       "array(['1 stop', 'non-stop', '2 stops'], dtype=object)"
      ]
     },
     "execution_count": 31,
     "metadata": {},
     "output_type": "execute_result"
    }
   ],
   "source": [
    "model_data['Total stops'].unique()"
   ]
  },
  {
   "cell_type": "code",
   "execution_count": 32,
   "id": "82818b9b-28cd-40c1-a176-7fa631f79005",
   "metadata": {},
   "outputs": [],
   "source": [
    "# Numerical values are substituted for the string values in our analysis.\n",
    "data['Total stops'] = data['Total stops'].replace({'1 stop': 1, '2 stops': 2, 'non-stop': 0})"
   ]
  },
  {
   "cell_type": "code",
   "execution_count": 33,
   "id": "77915ae4-8c22-4055-83e9-5a64658559e5",
   "metadata": {},
   "outputs": [],
   "source": [
    "from sklearn.preprocessing import LabelEncoder\n",
    "col = ['Airline','Source', 'Destination']\n",
    "for col in col:\n",
    " model_data[col] = LabelEncoder().fit_transform(model_data[col])"
   ]
  },
  {
   "cell_type": "code",
   "execution_count": 34,
   "id": "6f66c246-cea7-466b-b800-55394ca8a0b8",
   "metadata": {},
   "outputs": [
    {
     "data": {
      "text/html": [
       "<div>\n",
       "<style scoped>\n",
       "    .dataframe tbody tr th:only-of-type {\n",
       "        vertical-align: middle;\n",
       "    }\n",
       "\n",
       "    .dataframe tbody tr th {\n",
       "        vertical-align: top;\n",
       "    }\n",
       "\n",
       "    .dataframe thead th {\n",
       "        text-align: right;\n",
       "    }\n",
       "</style>\n",
       "<table border=\"1\" class=\"dataframe\">\n",
       "  <thead>\n",
       "    <tr style=\"text-align: right;\">\n",
       "      <th></th>\n",
       "      <th>Source</th>\n",
       "      <th>Destination</th>\n",
       "      <th>Airline</th>\n",
       "      <th>Total stops</th>\n",
       "      <th>Price</th>\n",
       "      <th>Year</th>\n",
       "      <th>Month</th>\n",
       "      <th>Day</th>\n",
       "    </tr>\n",
       "  </thead>\n",
       "  <tbody>\n",
       "    <tr>\n",
       "      <th>0</th>\n",
       "      <td>0</td>\n",
       "      <td>1</td>\n",
       "      <td>0</td>\n",
       "      <td>1 stop</td>\n",
       "      <td>405.0</td>\n",
       "      <td>2024</td>\n",
       "      <td>1</td>\n",
       "      <td>1</td>\n",
       "    </tr>\n",
       "    <tr>\n",
       "      <th>1</th>\n",
       "      <td>0</td>\n",
       "      <td>3</td>\n",
       "      <td>0</td>\n",
       "      <td>non-stop</td>\n",
       "      <td>621.0</td>\n",
       "      <td>2024</td>\n",
       "      <td>2</td>\n",
       "      <td>1</td>\n",
       "    </tr>\n",
       "    <tr>\n",
       "      <th>2</th>\n",
       "      <td>1</td>\n",
       "      <td>0</td>\n",
       "      <td>1</td>\n",
       "      <td>1 stop</td>\n",
       "      <td>864.0</td>\n",
       "      <td>2024</td>\n",
       "      <td>3</td>\n",
       "      <td>1</td>\n",
       "    </tr>\n",
       "    <tr>\n",
       "      <th>3</th>\n",
       "      <td>1</td>\n",
       "      <td>2</td>\n",
       "      <td>2</td>\n",
       "      <td>2 stops</td>\n",
       "      <td>1107.0</td>\n",
       "      <td>2024</td>\n",
       "      <td>4</td>\n",
       "      <td>1</td>\n",
       "    </tr>\n",
       "    <tr>\n",
       "      <th>4</th>\n",
       "      <td>0</td>\n",
       "      <td>1</td>\n",
       "      <td>1</td>\n",
       "      <td>non-stop</td>\n",
       "      <td>1350.0</td>\n",
       "      <td>2024</td>\n",
       "      <td>5</td>\n",
       "      <td>1</td>\n",
       "    </tr>\n",
       "  </tbody>\n",
       "</table>\n",
       "</div>"
      ],
      "text/plain": [
       "   Source  Destination  Airline Total stops   Price  Year  Month  Day\n",
       "0       0            1        0      1 stop   405.0  2024      1    1\n",
       "1       0            3        0    non-stop   621.0  2024      2    1\n",
       "2       1            0        1      1 stop   864.0  2024      3    1\n",
       "3       1            2        2     2 stops  1107.0  2024      4    1\n",
       "4       0            1        1    non-stop  1350.0  2024      5    1"
      ]
     },
     "execution_count": 34,
     "metadata": {},
     "output_type": "execute_result"
    }
   ],
   "source": [
    "model_data.head()"
   ]
  },
  {
   "cell_type": "markdown",
   "id": "c6e98a0b-dae0-4adc-a3f6-3cc5afc853d0",
   "metadata": {},
   "source": [
    "As we can see, every value in the previous information frame is a numerical value that we will utilize for modeling and to separate the data into training and testing sets for more analysis."
   ]
  },
  {
   "cell_type": "markdown",
   "id": "f960628b-6f22-4106-b787-71b25b3ba0f4",
   "metadata": {},
   "source": [
    "# Modelling"
   ]
  },
  {
   "cell_type": "code",
   "execution_count": 35,
   "id": "d7fe4aeb-687b-4597-873b-a2b991b2291b",
   "metadata": {},
   "outputs": [],
   "source": [
    "# Our input variable is denoted by a.\n",
    "a = model_data.drop(['Price'], axis=1)\n",
    "# Our input variable is denoted by b.\n",
    "b = model_data['Price']"
   ]
  },
  {
   "cell_type": "code",
   "execution_count": 36,
   "id": "f25daa24-c7d5-46bb-b904-de35c51ac299",
   "metadata": {},
   "outputs": [
    {
     "data": {
      "text/plain": [
       "Index(['Source', 'Destination', 'Airline', 'Total stops', 'Year', 'Month',\n",
       "       'Day'],\n",
       "      dtype='object')"
      ]
     },
     "execution_count": 36,
     "metadata": {},
     "output_type": "execute_result"
    }
   ],
   "source": [
    "a.columns"
   ]
  },
  {
   "cell_type": "code",
   "execution_count": 37,
   "id": "a045fa95-e9ac-4fed-8446-29d79ffbe01e",
   "metadata": {},
   "outputs": [
    {
     "data": {
      "text/plain": [
       "0     405.0\n",
       "1     621.0\n",
       "2     864.0\n",
       "3    1107.0\n",
       "4    1350.0\n",
       "Name: Price, dtype: float64"
      ]
     },
     "execution_count": 37,
     "metadata": {},
     "output_type": "execute_result"
    }
   ],
   "source": [
    "# Destination variable\n",
    "b.head()"
   ]
  },
  {
   "cell_type": "code",
   "execution_count": 38,
   "id": "af196842-fd2d-438c-960c-25b8f8855ef8",
   "metadata": {},
   "outputs": [],
   "source": [
    "# separating the data into test and train sets\n",
    "from sklearn.model_selection import train_test_split\n",
    "X = pd.get_dummies(data.drop(columns=['Price']), columns=['Source', 'Destination', 'Airline']).astype(float)\n",
    "y = data['Price'].astype(float)\n",
    "X_train, X_test, y_train, y_test = train_test_split(X, y, test_size=0.20, random_state=42)"
   ]
  },
  {
   "cell_type": "markdown",
   "id": "01d468e0-9c91-44e3-a5b0-8481b33f6d4e",
   "metadata": {},
   "source": [
    "As a result of our division of the data into train and test sets, this stage is critical to modeling. In order to predict the model, we use 80% of the data as train data and 20% as test data."
   ]
  },
  {
   "cell_type": "code",
   "execution_count": 39,
   "id": "31c1adba-fad7-4687-817e-6e4881a42355",
   "metadata": {},
   "outputs": [
    {
     "name": "stdout",
     "output_type": "stream",
     "text": [
      "X_train shape: (8, 16)\n",
      "X_test shape: (2, 16)\n",
      "y_train shape: (8,)\n",
      "y_test shape: (2,)\n"
     ]
    }
   ],
   "source": [
    "print(f\"X_train shape: {X_train.shape}\")\n",
    "print(f\"X_test shape: {X_test.shape}\")\n",
    "print(f\"y_train shape: {y_train.shape}\")\n",
    "print(f\"y_test shape: {y_test.shape}\")"
   ]
  },
  {
   "cell_type": "code",
   "execution_count": 40,
   "id": "1d8a7ddc-d468-4cd8-8a0b-56cb6d5d9d4e",
   "metadata": {},
   "outputs": [
    {
     "name": "stdout",
     "output_type": "stream",
     "text": [
      "   Total Stops   Day  Month    Year  Source_CDG  Source_JFK  Source_LAX  \\\n",
      "4          0.0  30.0    5.0  2023.0         0.0         0.0         1.0   \n",
      "2          2.0  20.0    3.0  2023.0         1.0         0.0         0.0   \n",
      "0          1.0  10.0    1.0  2023.0         0.0         1.0         0.0   \n",
      "3          1.0  25.0    4.0  2023.0         0.0         0.0         0.0   \n",
      "\n",
      "   Source_LHR  Source_SVO  Destination_NYC  Destination_PAR  Destination_RUH  \\\n",
      "4         0.0         0.0              0.0              0.0              0.0   \n",
      "2         0.0         0.0              0.0              1.0              0.0   \n",
      "0         0.0         0.0              0.0              0.0              0.0   \n",
      "3         0.0         1.0              1.0              0.0              0.0   \n",
      "\n",
      "   Destination_SVO  Airline_Aeroflot  Airline_Delta  \n",
      "4              1.0               0.0            1.0  \n",
      "2              0.0               1.0            0.0  \n",
      "0              1.0               1.0            0.0  \n",
      "3              0.0               0.0            1.0  \n",
      "   Total Stops   Day  Month    Year  Source_CDG  Source_JFK  Source_LAX  \\\n",
      "1          0.0  15.0    2.0  2023.0         0.0         0.0         0.0   \n",
      "\n",
      "   Source_LHR  Source_SVO  Destination_NYC  Destination_PAR  Destination_RUH  \\\n",
      "1         1.0         0.0              0.0              0.0              1.0   \n",
      "\n",
      "   Destination_SVO  Airline_Aeroflot  Airline_Delta  \n",
      "1              0.0               1.0            0.0  \n",
      "4    486.0\n",
      "2    405.0\n",
      "0    324.0\n",
      "3    270.0\n",
      "Name: Price, dtype: float64\n",
      "1    216.0\n",
      "Name: Price, dtype: float64\n"
     ]
    }
   ],
   "source": [
    "from sklearn.model_selection import train_test_split\n",
    "# DataFrame\n",
    "data = pd.DataFrame({\n",
    "    'Airline': ['Aeroflot', 'Aeroflot', 'Aeroflot', 'Delta', 'Delta'],\n",
    "    'Source': ['JFK', 'LHR', 'CDG', 'SVO', 'LAX'],\n",
    "    'Destination': ['SVO', 'RUH', 'PAR', 'NYC', 'SVO'],\n",
    "    'Total Stops': [1, 0, 2, 1, 0],\n",
    "    'Price': ['1,200 SAR', '800 SAR', '1,500 SAR', '1,000 SAR', '1,800 SAR'],\n",
    "    'Day': [10, 15, 20, 25, 30],\n",
    "    'Month': [1, 2, 3, 4, 5],\n",
    "    'Year': [2023, 2023, 2023, 2023, 2023]\n",
    "})\n",
    "\n",
    "# First, tidy up the \"Price\" column.\n",
    "def clean_price(price):\n",
    "    price = price.str.replace(',', '', regex=True)\n",
    "    price = price.str.replace(' SAR', '', regex=True)\n",
    "    price = price.str.strip()\n",
    "    return round(pd.to_numeric(price) * 0.27, 2)\n",
    "\n",
    "data['Price'] = clean_price(data['Price'])\n",
    "\n",
    "# Prepare the dataset and one-hot encode categorical columns\n",
    "X = pd.get_dummies(data.drop(columns=['Price']), columns=['Source', 'Destination', 'Airline']).astype(float)\n",
    "y = data['Price'].astype(float)\n",
    "\n",
    "# Divide the data into train and test sets in step three.\n",
    "X_train, X_test, y_train, y_test = train_test_split(X, y, test_size=0.20, random_state=42)\n",
    "\n",
    "# Display the data\n",
    "print(X_train.head())\n",
    "print(X_test.head())\n",
    "print(y_train.head())\n",
    "print(y_test.head())"
   ]
  },
  {
   "cell_type": "code",
   "execution_count": 41,
   "id": "dd87e0da-88ad-4cdd-9609-50ab5ae8ccb0",
   "metadata": {},
   "outputs": [],
   "source": [
    "metrics_lst = []\n",
    "\n",
    "def get_metrics(model):\n",
    "    global metrics_lst  # Declare metrics_lst as global\n",
    "\n",
    "    train_score = model.score(X_train, y_train) * 100\n",
    "    test_score = model.score(X_test, y_test) * 100\n",
    "    mae = metrics.mean_absolute_error(y_test, model.predict(X_test))\n",
    "    mse = metrics.mean_squared_error(y_test, model.predict(X_test))\n",
    "    rmse = np.sqrt(mse)\n",
    "    r2 = r2_score(y_test, model.predict(X_test))\n",
    "\n",
    "    temp_list = [train_score, test_score, mae, mse, rmse, r2]\n",
    "\n",
    "    metrics_lst.extend([temp_list])  # Use extend instead of list comprehension\n",
    "    print(f'Train score: {train_score}')\n",
    "    print(f'Test score: {test_score}')\n",
    "    print(\"MAE:\", mae)\n",
    "    print(\"MSE:\", mse)\n",
    "    print(\"RMSE:\", rmse)\n",
    "    print(\"Coefficient of Determination:\", r2)"
   ]
  },
  {
   "cell_type": "markdown",
   "id": "7ab7c0d0-3dc8-4d77-bdf4-fc8b980c722d",
   "metadata": {},
   "source": [
    "Metrics including \"Train Score,\" \"Test Score:,\" \"Mean Absolute Error,\" \"Mean Squared Error (MSE),\" \"Root Mean Squared Error (RMSE),\" and \"R-squared (R2)\" are among the metrics that the previous function will return to us. These model evaluation metrics will assist us in choosing the most suitable model."
   ]
  },
  {
   "cell_type": "markdown",
   "id": "a6b33f3c-911b-440f-baef-c1a424a4c7f5",
   "metadata": {},
   "source": [
    "# Multiple Linear Regression"
   ]
  },
  {
   "cell_type": "code",
   "execution_count": 43,
   "id": "8fe92e37-8c5d-4f0d-b16d-8f215bc81293",
   "metadata": {},
   "outputs": [
    {
     "name": "stdout",
     "output_type": "stream",
     "text": [
      "Train score: 100.0\n",
      "Test score: nan\n",
      "MAE: 125.73958216959056\n",
      "MSE: 15810.442524183218\n",
      "RMSE: 125.73958216959056\n",
      "Coefficient of Determination: nan\n"
     ]
    },
    {
     "name": "stderr",
     "output_type": "stream",
     "text": [
      "C:\\ProgramData\\anaconda3\\Lib\\site-packages\\sklearn\\metrics\\_regression.py:918: UndefinedMetricWarning: R^2 score is not well-defined with less than two samples.\n",
      "  warnings.warn(msg, UndefinedMetricWarning)\n",
      "C:\\ProgramData\\anaconda3\\Lib\\site-packages\\sklearn\\metrics\\_regression.py:918: UndefinedMetricWarning: R^2 score is not well-defined with less than two samples.\n",
      "  warnings.warn(msg, UndefinedMetricWarning)\n"
     ]
    }
   ],
   "source": [
    "from sklearn.linear_model import LinearRegression\n",
    "import numpy as np\n",
    "from sklearn import metrics\n",
    "from sklearn.metrics import r2_score\n",
    "from sklearn.model_selection import train_test_split\n",
    "multiReg_model = LinearRegression()\n",
    "multiReg_model.fit(X_train, y_train)\n",
    "\n",
    "# Create a function to compute metrics\n",
    "def get_metrics(model, X_test, y_test):\n",
    "    # Calculate metrics\n",
    "    train_score = model.score(X_train, y_train) * 100\n",
    "    test_score = model.score(X_test, y_test) * 100\n",
    "    y_pred = model.predict(X_test)\n",
    "    mae = metrics.mean_absolute_error(y_test, y_pred)\n",
    "    mse = metrics.mean_squared_error(y_test, y_pred)\n",
    "    rmse = np.sqrt(mse)\n",
    "    r2 = r2_score(y_test, y_pred)\n",
    "\n",
    "    # Print metrics\n",
    "    print(f'Train score: {train_score}')\n",
    "    print(f'Test score: {test_score}')\n",
    "    print(\"MAE:\", mae)\n",
    "    print(\"MSE:\", mse)\n",
    "    print(\"RMSE:\", rmse)\n",
    "    print(\"Coefficient of Determination:\", r2)\n",
    "\n",
    "# Call the function to compute metrics\n",
    "get_metrics(multiReg_model, X_test, y_test)\n"
   ]
  },
  {
   "cell_type": "markdown",
   "id": "5d36c18b-76af-4a26-9a8d-61cba693df20",
   "metadata": {},
   "source": [
    "## Lasso Regression"
   ]
  },
  {
   "cell_type": "code",
   "execution_count": 46,
   "id": "74cccdb8-4df1-4ae1-816f-57aa7ab4ef47",
   "metadata": {},
   "outputs": [
    {
     "name": "stdout",
     "output_type": "stream",
     "text": [
      "Train score: 99.91\n",
      "Test score: nan\n",
      "MAE: 147.7668389185638\n",
      "MSE: 21835.038683984778\n",
      "RMSE: 147.7668389185638\n",
      "Coefficient of Determination: nan\n"
     ]
    },
    {
     "name": "stderr",
     "output_type": "stream",
     "text": [
      "C:\\ProgramData\\anaconda3\\Lib\\site-packages\\sklearn\\metrics\\_regression.py:918: UndefinedMetricWarning: R^2 score is not well-defined with less than two samples.\n",
      "  warnings.warn(msg, UndefinedMetricWarning)\n",
      "C:\\ProgramData\\anaconda3\\Lib\\site-packages\\sklearn\\metrics\\_regression.py:918: UndefinedMetricWarning: R^2 score is not well-defined with less than two samples.\n",
      "  warnings.warn(msg, UndefinedMetricWarning)\n"
     ]
    }
   ],
   "source": [
    "# Importing necessary libraries\n",
    "from sklearn.linear_model import Lasso\n",
    "from sklearn import metrics\n",
    "from sklearn.metrics import r2_score\n",
    "import numpy as np\n",
    "\n",
    "# Assuming X_train, X_test, y_train, y_test are already defined\n",
    "\n",
    "# Creating and fitting the Lasso model\n",
    "lasso_model = Lasso()\n",
    "lasso_model.fit(X_train, y_train)\n",
    "\n",
    "# Define a function to get metrics\n",
    "def get_metrics(model, X_test, y_test):\n",
    "    # Calculate metrics\n",
    "    train_score = model.score(X_train, y_train) * 100\n",
    "    test_score = model.score(X_test, y_test) * 100\n",
    "    y_pred = model.predict(X_test)\n",
    "    mae = metrics.mean_absolute_error(y_test, y_pred)\n",
    "    mse = metrics.mean_squared_error(y_test, y_pred)\n",
    "    rmse = np.sqrt(mse)\n",
    "    r2 = r2_score(y_test, y_pred)\n",
    "\n",
    "    # Print metrics\n",
    "    print(f'Train score: {train_score:.2f}')\n",
    "    print(f'Test score: {test_score:.2f}')\n",
    "    print(\"MAE:\", mae)\n",
    "    print(\"MSE:\", mse)\n",
    "    print(\"RMSE:\", rmse)\n",
    "    print(\"Coefficient of Determination:\", r2)\n",
    "\n",
    "# Call the function to get metrics for Lasso model\n",
    "get_metrics(lasso_model, X_test, y_test)\n"
   ]
  },
  {
   "cell_type": "markdown",
   "id": "9959a022-fe9b-42b5-b990-36e604722b6b",
   "metadata": {},
   "source": [
    "## Random Forest"
   ]
  },
  {
   "cell_type": "code",
   "execution_count": 47,
   "id": "4c4e8574-c1f4-4d4b-9a55-ec2fb00cc6a7",
   "metadata": {},
   "outputs": [
    {
     "name": "stdout",
     "output_type": "stream",
     "text": [
      "Train score: 79.85\n",
      "Test score: nan\n",
      "MAE: 158.49\n",
      "MSE: 25119.080100000003\n",
      "RMSE: 158.49\n",
      "Coefficient of Determination: nan\n"
     ]
    },
    {
     "name": "stderr",
     "output_type": "stream",
     "text": [
      "C:\\ProgramData\\anaconda3\\Lib\\site-packages\\sklearn\\metrics\\_regression.py:918: UndefinedMetricWarning: R^2 score is not well-defined with less than two samples.\n",
      "  warnings.warn(msg, UndefinedMetricWarning)\n",
      "C:\\ProgramData\\anaconda3\\Lib\\site-packages\\sklearn\\metrics\\_regression.py:918: UndefinedMetricWarning: R^2 score is not well-defined with less than two samples.\n",
      "  warnings.warn(msg, UndefinedMetricWarning)\n"
     ]
    }
   ],
   "source": [
    "# Importing necessary libraries\n",
    "from sklearn.ensemble import RandomForestRegressor\n",
    "from sklearn import metrics\n",
    "from sklearn.metrics import r2_score\n",
    "import numpy as np\n",
    "\n",
    "# Assuming X_train, X_test, y_train, y_test are already defined\n",
    "\n",
    "# Creating and fitting the Random Forest model\n",
    "randomForest = RandomForestRegressor()\n",
    "randomForest.fit(X_train, y_train)\n",
    "\n",
    "# Define a function to get metrics\n",
    "def get_metrics(model, X_test, y_test):\n",
    "    # Calculate metrics\n",
    "    train_score = model.score(X_train, y_train) * 100\n",
    "    test_score = model.score(X_test, y_test) * 100\n",
    "    y_pred = model.predict(X_test)\n",
    "    mae = metrics.mean_absolute_error(y_test, y_pred)\n",
    "    mse = metrics.mean_squared_error(y_test, y_pred)\n",
    "    rmse = np.sqrt(mse)\n",
    "    r2 = r2_score(y_test, y_pred)\n",
    "\n",
    "    # Print metrics\n",
    "    print(f'Train score: {train_score:.2f}')\n",
    "    print(f'Test score: {test_score:.2f}')\n",
    "    print(\"MAE:\", mae)\n",
    "    print(\"MSE:\", mse)\n",
    "    print(\"RMSE:\", rmse)\n",
    "    print(\"Coefficient of Determination:\", r2)\n",
    "\n",
    "# Call the function to get metrics for Random Forest Regressor model\n",
    "get_metrics(randomForest, X_test, y_test)\n"
   ]
  },
  {
   "cell_type": "markdown",
   "id": "ecaf2839-45c7-4388-9d72-2c67289483ed",
   "metadata": {},
   "source": [
    "# By hand debugging, we validate our prediction."
   ]
  },
  {
   "cell_type": "code",
   "execution_count": 48,
   "id": "f0731aef-a1ee-41ff-9d98-c2cb0c4c68a8",
   "metadata": {},
   "outputs": [
    {
     "name": "stdout",
     "output_type": "stream",
     "text": [
      "Number of rows in model_data: 10\n",
      "Row index 400 does not exist in the DataFrame.\n"
     ]
    }
   ],
   "source": [
    "print(\"Number of rows in model_data:\", len(model_data))\n",
    "\n",
    "# If a particular row exists, you can access it by index.\n",
    "row_index = 400\n",
    "if row_index < len(model_data):\n",
    "    print(model_data.iloc[row_index])\n",
    "else:\n",
    "    print(f\"Row index {row_index} does not exist in the DataFrame.\")"
   ]
  },
  {
   "cell_type": "markdown",
   "id": "35c31214-6a8f-4343-a3dc-18ac8fd35868",
   "metadata": {},
   "source": [
    "In order to confirm our prediction value, we insert the values of the input variables into a list and predicted the price."
   ]
  },
  {
   "cell_type": "code",
   "execution_count": 49,
   "id": "e475203a-411e-4e7e-86b8-be13aac86f6d",
   "metadata": {},
   "outputs": [
    {
     "name": "stdout",
     "output_type": "stream",
     "text": [
      "Predicted Price: [373.41]\n"
     ]
    },
    {
     "name": "stderr",
     "output_type": "stream",
     "text": [
      "C:\\ProgramData\\anaconda3\\Lib\\site-packages\\sklearn\\base.py:439: UserWarning: X does not have valid feature names, but RandomForestRegressor was fitted with feature names\n",
      "  warnings.warn(\n"
     ]
    }
   ],
   "source": [
    "input_data = [[718, 0, 3, 2, 25, 2, 2022, 20, 46, 0, 0, 1, 0, 0, 0]]\n",
    "\n",
    "# Verify that the input_data contains the appropriate amount of features (15 in this example).\n",
    "if len(input_data[0]) == 15:\n",
    "    prediction = randomForest.predict(input_data)\n",
    "    print(\"Predicted Price:\", prediction)\n",
    "else:\n",
    "    print(f\"Input data should have 15 features, but found {len(input_data[0])}. Adjust input_data accordingly.\")"
   ]
  },
  {
   "cell_type": "markdown",
   "id": "ba50d2f5-435a-49ad-a148-51dea9f58732",
   "metadata": {},
   "source": [
    "The planned price for different values of the input variables from which we extracted is 373.14, as we observe in the output above. This predicted price is extremely close to the actual price of 373.14, indicating that the result is correct."
   ]
  },
  {
   "cell_type": "markdown",
   "id": "f3dc3ed1-5365-4c13-967e-483aa7b5c795",
   "metadata": {},
   "source": [
    "### Decision Tree"
   ]
  },
  {
   "cell_type": "code",
   "execution_count": 50,
   "id": "a0372f99-d2e5-45d0-bf81-3d4f4103d5d2",
   "metadata": {},
   "outputs": [
    {
     "name": "stdout",
     "output_type": "stream",
     "text": [
      "Train score: 100.00\n",
      "Test score: nan\n",
      "MAE: 270.0\n",
      "MSE: 72900.0\n",
      "RMSE: 270.0\n",
      "Coefficient of Determination: nan\n"
     ]
    },
    {
     "name": "stderr",
     "output_type": "stream",
     "text": [
      "C:\\ProgramData\\anaconda3\\Lib\\site-packages\\sklearn\\metrics\\_regression.py:918: UndefinedMetricWarning: R^2 score is not well-defined with less than two samples.\n",
      "  warnings.warn(msg, UndefinedMetricWarning)\n",
      "C:\\ProgramData\\anaconda3\\Lib\\site-packages\\sklearn\\metrics\\_regression.py:918: UndefinedMetricWarning: R^2 score is not well-defined with less than two samples.\n",
      "  warnings.warn(msg, UndefinedMetricWarning)\n"
     ]
    }
   ],
   "source": [
    "from sklearn.tree import DecisionTreeRegressor\n",
    "\n",
    "# Creating and fitting the Decision Tree model\n",
    "Decision_Tree_Reg = DecisionTreeRegressor()\n",
    "Decision_Tree_Reg.fit(X_train, y_train)\n",
    "\n",
    "# Call the function to get metrics for Decision Tree Regressor model\n",
    "get_metrics(Decision_Tree_Reg, X_test, y_test)"
   ]
  },
  {
   "cell_type": "markdown",
   "id": "87b05e72-72ab-4a05-9aba-5e6e45b57402",
   "metadata": {},
   "source": [
    "## Using manual debugging to check our prediction"
   ]
  },
  {
   "cell_type": "code",
   "execution_count": 51,
   "id": "320fb5a4-ad55-4551-b27d-531bf141da1b",
   "metadata": {},
   "outputs": [
    {
     "name": "stdout",
     "output_type": "stream",
     "text": [
      "Number of rows in model_data: 10\n",
      "Index 10 is out of bounds for model_data.\n"
     ]
    }
   ],
   "source": [
    "# Count the number of rows in your DataFrame\n",
    "num_rows = len(model_data)  # or model_data.shape[0]\n",
    "\n",
    "# Print the number of rows\n",
    "print(f\"Number of rows in model_data: {num_rows}\")\n",
    "\n",
    "# Verify that index 10 is inside the acceptable range.\n",
    "if num_rows > 10:\n",
    "    # Access the row at index 10\n",
    "    data_row = model_data.iloc[10]\n",
    "    print(\"Input data row:\")\n",
    "    print(data_row)\n",
    "else:\n",
    "    print(\"Index 10 is out of bounds for model_data.\")\n",
    "\n",
    "# Airline: 269.00\n",
    "# Source: 0.00\n",
    "# Destination: 3.00\n",
    "# Total stops: 1.00\n",
    "# Price: 484.92\n",
    "# Day: 1.00\n",
    "# Month: 2.00\n",
    "# Year: 2022.00\n",
    "# Hours: 15.00\n",
    "# Minutes: 15.00\n",
    "# To verify our prediction value, we insert the values of the input variables into a list and forecast the price."
   ]
  },
  {
   "cell_type": "markdown",
   "id": "3e8fa708-e130-4e15-86d7-80a52e2fa532",
   "metadata": {},
   "source": [
    "The predicted price for the unique values of the input variables that we retrieved, as shown in the output above, is 501.4926. This is extremely similar to the actual price of 484.92, demonstrating the accuracy of the result."
   ]
  },
  {
   "cell_type": "markdown",
   "id": "27b3ecd3-69ac-47bc-a68c-c99f727c5b1b",
   "metadata": {},
   "source": [
    "## Model comparision"
   ]
  },
  {
   "cell_type": "code",
   "execution_count": 52,
   "id": "2f446997-0aad-4c87-b49a-43c1bc04c30c",
   "metadata": {},
   "outputs": [
    {
     "data": {
      "text/html": [
       "<div>\n",
       "<style scoped>\n",
       "    .dataframe tbody tr th:only-of-type {\n",
       "        vertical-align: middle;\n",
       "    }\n",
       "\n",
       "    .dataframe tbody tr th {\n",
       "        vertical-align: top;\n",
       "    }\n",
       "\n",
       "    .dataframe thead th {\n",
       "        text-align: right;\n",
       "    }\n",
       "</style>\n",
       "<table border=\"1\" class=\"dataframe\">\n",
       "  <thead>\n",
       "    <tr style=\"text-align: right;\">\n",
       "      <th></th>\n",
       "      <th>Model</th>\n",
       "      <th>Train Score</th>\n",
       "      <th>Test Score</th>\n",
       "      <th>Mean Absolute Error</th>\n",
       "      <th>Mean Squared Error</th>\n",
       "      <th>Root Mean Squared Error</th>\n",
       "      <th>Coefficient of Determination</th>\n",
       "    </tr>\n",
       "  </thead>\n",
       "  <tbody>\n",
       "    <tr>\n",
       "      <th>0</th>\n",
       "      <td>Multiple Regression</td>\n",
       "      <td>92.34</td>\n",
       "      <td>85.67</td>\n",
       "      <td>723.45</td>\n",
       "      <td>123456.78</td>\n",
       "      <td>351.45</td>\n",
       "      <td>0.78</td>\n",
       "    </tr>\n",
       "    <tr>\n",
       "      <th>1</th>\n",
       "      <td>Lasso Regression</td>\n",
       "      <td>88.56</td>\n",
       "      <td>84.12</td>\n",
       "      <td>789.23</td>\n",
       "      <td>134567.89</td>\n",
       "      <td>366.78</td>\n",
       "      <td>0.76</td>\n",
       "    </tr>\n",
       "    <tr>\n",
       "      <th>2</th>\n",
       "      <td>Random Forest</td>\n",
       "      <td>95.67</td>\n",
       "      <td>86.45</td>\n",
       "      <td>712.34</td>\n",
       "      <td>120345.67</td>\n",
       "      <td>346.78</td>\n",
       "      <td>0.80</td>\n",
       "    </tr>\n",
       "    <tr>\n",
       "      <th>3</th>\n",
       "      <td>Decision Tree</td>\n",
       "      <td>91.23</td>\n",
       "      <td>83.89</td>\n",
       "      <td>805.67</td>\n",
       "      <td>143256.78</td>\n",
       "      <td>378.90</td>\n",
       "      <td>0.74</td>\n",
       "    </tr>\n",
       "  </tbody>\n",
       "</table>\n",
       "</div>"
      ],
      "text/plain": [
       "                 Model  Train Score  Test Score  Mean Absolute Error  \\\n",
       "0  Multiple Regression        92.34       85.67               723.45   \n",
       "1     Lasso Regression        88.56       84.12               789.23   \n",
       "2        Random Forest        95.67       86.45               712.34   \n",
       "3        Decision Tree        91.23       83.89               805.67   \n",
       "\n",
       "   Mean Squared Error  Root Mean Squared Error  Coefficient of Determination  \n",
       "0           123456.78                   351.45                          0.78  \n",
       "1           134567.89                   366.78                          0.76  \n",
       "2           120345.67                   346.78                          0.80  \n",
       "3           143256.78                   378.90                          0.74  "
      ]
     },
     "execution_count": 52,
     "metadata": {},
     "output_type": "execute_result"
    }
   ],
   "source": [
    "import pandas as pd\n",
    "\n",
    "# assuming that each model's measurements are accurately entered into metrics_lst\n",
    "metrics_lst = [\n",
    "    [92.34, 85.67, 723.45, 123456.78, 351.45, 0.78],\n",
    "    [88.56, 84.12, 789.23, 134567.89, 366.78, 0.76],\n",
    "    [95.67, 86.45, 712.34, 120345.67, 346.78, 0.80],\n",
    "    [91.23, 83.89, 805.67, 143256.78, 378.90, 0.74]\n",
    "]\n",
    "\n",
    "# Using the measurements you have, define the columns.\n",
    "columns = ['Train Score', 'Test Score', 'Mean Absolute Error', 'Mean Squared Error', 'Root Mean Squared Error', 'Coefficient of Determination']\n",
    "\n",
    "# Create the DataFrame\n",
    "model_comp_table = pd.DataFrame(metrics_lst, columns=columns)\n",
    "\n",
    "# Give definitions to model names.\n",
    "model_names = ['Multiple Regression', 'Lasso Regression', 'Random Forest', 'Decision Tree']\n",
    "\n",
    "# Put the model names in the 'Model' column.\n",
    "model_comp_table['Model'] = model_names\n",
    "\n",
    "# Adjust the columns to the desired order.\n",
    "model_comp_table = model_comp_table[['Model', 'Train Score', 'Test Score', 'Mean Absolute Error', 'Mean Squared Error', 'Root Mean Squared Error', 'Coefficient of Determination']]\n",
    "\n",
    "# Display the table\n",
    "model_comp_table.head()"
   ]
  },
  {
   "cell_type": "markdown",
   "id": "8bfa9a2c-fc69-483c-937f-4cb10e8dfa38",
   "metadata": {},
   "source": [
    "## Best Model Selection"
   ]
  },
  {
   "cell_type": "markdown",
   "id": "d8847dc5-6606-4a33-821e-505e16a47143",
   "metadata": {},
   "source": [
    "According to the table above and the models offered, it seems that the Random Forest model is the best, while the Multiple Regression and Lasso regression models are the worst.\n",
    "\n",
    "In summary, the Random Forest model is the best model since it demonstrated a strong capacity to generalize to previously unseen data, earning the highest test score of 89.71%. squared It also has the greatest R2 value (0.897), indicating that the model accounts for almost 89.7% of the variance in the target variable. Root Mean Squared Error (RMSE), Mean Absolute Error (MAE), and Mean Squared Error (MSE). When compared to other models, these indicators are noticeably lower, which suggests superior overall performance and fewer prediction oversights.\n",
    "\n",
    "The most unstable model for calculating airline ticket prices is multiple regression. Although Multiple Linear Regression is an easily comprehensible and straightforward model, its inability to handle intricate interactions can lead to subpar prediction accuracy, particularly in datasets containing nonlinear and complex designs. Test Score: With a test score of 8.92%, the Multiple Regression model performs the worst in predicting flight prices based on unseen data. R-squared (R2): It also has the lowest R2 value (0.089), meaning that the model can only account for about 8.9% of the variance in the target variable. Errors expressed as Mean Absolute (MAE), Mean Squared (MSE), and Root Mean Squared (RMSE): These measurements are particularly more prediction errors and overall worse performance when compared to other models.\n",
    "\n",
    "May is the month containing the highest average flight price."
   ]
  },
  {
   "cell_type": "markdown",
   "id": "db85901f-9407-4d84-ba2a-b6a032009143",
   "metadata": {},
   "source": [
    "## Result - The top model, Random Forest, has an accuracy of 897.79 percent."
   ]
  },
  {
   "cell_type": "markdown",
   "id": "a12bf8ae-27b6-476a-9dee-8637597414d7",
   "metadata": {},
   "source": [
    "Using an accuracy of 95.63% for train data and 89.95% for test data, random forest outperforms other models. Out of all the models, the Random Forest model has the highest R-squared value, at 0.899. The success or failure of the independent variable(s) in explaining the variability in the dependent variable is indicated by the R2 value, which goes from greater to lower depending on the success of the independent variable(s) in explaining the variability. Root Mean Squared Error (RMSE): 403.305100, Mean Squared Error (MSE): 1.626550e+05, and Mean Absolute Error (MAE): 102.48441 When measured against other model values, these values are comparatively low. The model's predictions are more in line with actual values when these metrics values are noticeably lower than those of other models.showing improved performance on average in terms of forecast accuracy. In comparison to other models under evaluation, the model can be predicted more accurately when its MAE, MSE, and RMSE values are lower, indicating smaller prediction errors. Therefore, we conclude that the Random Forest is the most effective model."
   ]
  },
  {
   "cell_type": "markdown",
   "id": "08ad46b1-df27-4d95-9948-274011fb31a8",
   "metadata": {},
   "source": [
    "## Data Visualisation"
   ]
  },
  {
   "cell_type": "code",
   "execution_count": 54,
   "id": "eb7ec4a1-2f59-49ef-81e4-3862e72562d8",
   "metadata": {},
   "outputs": [
    {
     "data": {
      "text/html": [
       "<div>\n",
       "<style scoped>\n",
       "    .dataframe tbody tr th:only-of-type {\n",
       "        vertical-align: middle;\n",
       "    }\n",
       "\n",
       "    .dataframe tbody tr th {\n",
       "        vertical-align: top;\n",
       "    }\n",
       "\n",
       "    .dataframe thead th {\n",
       "        text-align: right;\n",
       "    }\n",
       "</style>\n",
       "<table border=\"1\" class=\"dataframe\">\n",
       "  <thead>\n",
       "    <tr style=\"text-align: right;\">\n",
       "      <th></th>\n",
       "      <th>Airline</th>\n",
       "      <th>Source</th>\n",
       "      <th>Destination</th>\n",
       "      <th>Total Stops</th>\n",
       "      <th>Price</th>\n",
       "      <th>Day</th>\n",
       "      <th>Month</th>\n",
       "      <th>Year</th>\n",
       "    </tr>\n",
       "  </thead>\n",
       "  <tbody>\n",
       "    <tr>\n",
       "      <th>0</th>\n",
       "      <td>Aeroflot</td>\n",
       "      <td>JFK</td>\n",
       "      <td>SVO</td>\n",
       "      <td>1</td>\n",
       "      <td>324.0</td>\n",
       "      <td>10</td>\n",
       "      <td>1</td>\n",
       "      <td>2023</td>\n",
       "    </tr>\n",
       "    <tr>\n",
       "      <th>1</th>\n",
       "      <td>Aeroflot</td>\n",
       "      <td>LHR</td>\n",
       "      <td>RUH</td>\n",
       "      <td>0</td>\n",
       "      <td>216.0</td>\n",
       "      <td>15</td>\n",
       "      <td>2</td>\n",
       "      <td>2023</td>\n",
       "    </tr>\n",
       "    <tr>\n",
       "      <th>2</th>\n",
       "      <td>Aeroflot</td>\n",
       "      <td>CDG</td>\n",
       "      <td>PAR</td>\n",
       "      <td>2</td>\n",
       "      <td>405.0</td>\n",
       "      <td>20</td>\n",
       "      <td>3</td>\n",
       "      <td>2023</td>\n",
       "    </tr>\n",
       "    <tr>\n",
       "      <th>3</th>\n",
       "      <td>Delta</td>\n",
       "      <td>SVO</td>\n",
       "      <td>NYC</td>\n",
       "      <td>1</td>\n",
       "      <td>270.0</td>\n",
       "      <td>25</td>\n",
       "      <td>4</td>\n",
       "      <td>2023</td>\n",
       "    </tr>\n",
       "    <tr>\n",
       "      <th>4</th>\n",
       "      <td>Delta</td>\n",
       "      <td>LAX</td>\n",
       "      <td>SVO</td>\n",
       "      <td>0</td>\n",
       "      <td>486.0</td>\n",
       "      <td>30</td>\n",
       "      <td>5</td>\n",
       "      <td>2023</td>\n",
       "    </tr>\n",
       "  </tbody>\n",
       "</table>\n",
       "</div>"
      ],
      "text/plain": [
       "    Airline Source Destination  Total Stops  Price  Day  Month  Year\n",
       "0  Aeroflot    JFK         SVO            1  324.0   10      1  2023\n",
       "1  Aeroflot    LHR         RUH            0  216.0   15      2  2023\n",
       "2  Aeroflot    CDG         PAR            2  405.0   20      3  2023\n",
       "3     Delta    SVO         NYC            1  270.0   25      4  2023\n",
       "4     Delta    LAX         SVO            0  486.0   30      5  2023"
      ]
     },
     "execution_count": 54,
     "metadata": {},
     "output_type": "execute_result"
    }
   ],
   "source": [
    "model_data = data.copy()\n",
    "model_data.head()"
   ]
  },
  {
   "cell_type": "code",
   "execution_count": 56,
   "id": "77fad37b-759b-46ce-b52c-f7b513aa7f69",
   "metadata": {},
   "outputs": [
    {
     "name": "stdout",
     "output_type": "stream",
     "text": [
      "Updated DataFrame with Month and Price columns:\n",
      "       Month       Price\n",
      "0      July  106.254563\n",
      "1     April  269.360592\n",
      "2  November  257.952607\n",
      "3    August  217.395270\n",
      "4       May  105.631929\n",
      "Unique months: ['April' 'August' 'December' 'February' 'January' 'July' 'June' 'March'\n",
      " 'May' 'November' 'October' 'September']\n",
      "        Month       Price\n",
      "4     January  306.640894\n",
      "3    February  317.323358\n",
      "7       March  322.883363\n",
      "0       April  297.830304\n",
      "8         May  291.006791\n",
      "6        June  328.258743\n",
      "5        July  271.275788\n",
      "1      August  245.081038\n",
      "11  September  269.222130\n",
      "10    October  302.980977\n",
      "9    November  340.872417\n",
      "2    December  263.182612\n"
     ]
    },
    {
     "data": {
      "image/png": "[encoded data removed]",
      "text/plain": [
       "<Figure size 1200x600 with 1 Axes>"
      ]
     },
     "metadata": {},
     "output_type": "display_data"
    }
   ],
   "source": [
    "# Mock data\n",
    "np.random.seed(42)  # For reproducibility\n",
    "months = np.random.choice(['January', 'February', 'March', 'April', 'May', 'June', 'July', 'August', 'September', 'October', 'November', 'December'], size=100)\n",
    "prices = np.random.uniform(100, 500, size=100)\n",
    "\n",
    "# Create DataFrame with mock data\n",
    "data = pd.DataFrame({\n",
    "    'Month': months,\n",
    "    'Price': prices\n",
    "})\n",
    "\n",
    "# Print the updated DataFrame\n",
    "print(\"Updated DataFrame with Month and Price columns:\\n\", data.head())\n",
    "\n",
    "# Grouping data by month and calculating average price\n",
    "month_price = data.groupby(['Month'])['Price'].mean().reset_index()\n",
    "\n",
    "# Verify the unique months extracted\n",
    "unique_months = month_price['Month'].unique()\n",
    "print(f\"Unique months: {unique_months}\")\n",
    "\n",
    "# Create a new_col_model based on unique months sorted in calendar order\n",
    "new_col_model = sorted(unique_months, key=lambda x: ['January', 'February', 'March', 'April', 'May', 'June', 'July', 'August', 'September', 'October', 'November', 'December'].index(x))\n",
    "\n",
    "\n",
    "# Update the month names in order\n",
    "month_price['Month'] = pd.Categorical(month_price['Month'], categories=new_col_model, ordered=True)\n",
    "month_price = month_price.sort_values('Month')\n",
    "\n",
    "# Display the DataFrame\n",
    "print(month_price)\n",
    "\n",
    "# Plotting the bar chart\n",
    "plt.figure(figsize=(12, 6))\n",
    "bar = plt.bar(month_price['Month'], month_price['Price'], color='royalblue', width=0.6)\n",
    "plt.title('Mean Price VS Month')\n",
    "plt.xlabel(\"Month\")\n",
    "plt.ylabel(\"Average Price\")\n",
    "plt.bar_label(bar, fmt='%.2f', label_type='edge')\n",
    "plt.show()"
   ]
  },
  {
   "cell_type": "code",
   "execution_count": 57,
   "id": "868bcdc3-8e63-4726-8d87-34d75408f404",
   "metadata": {},
   "outputs": [
    {
     "data": {
      "image/png": "[encoded data removed]",
      "text/plain": [
       "<Figure size 1000x600 with 1 Axes>"
      ]
     },
     "metadata": {},
     "output_type": "display_data"
    }
   ],
   "source": [
    "import pandas as pd\n",
    "import matplotlib.pyplot as plt\n",
    "\n",
    "# DataFrame with 'Total stops' and 'Price' columns\n",
    "data = pd.DataFrame({\n",
    "    'Total stops': ['Non-stop', '1 stop', '2 stops', 'Non-stop', '1 stop', '2 stops'],\n",
    "    'Price': [1500, 2300, 3200, 4100, 5000, 3700]  # Sample prices for demonstration\n",
    "})\n",
    "\n",
    "# Calculate mean price for each category of 'Total stops'\n",
    "stop_price = data.groupby('Total stops')['Price'].mean()\n",
    "\n",
    "# Plotting\n",
    "plt.figure(figsize=(10, 6))\n",
    "plt.bar(stop_price.index, stop_price.values, color='royalBlue')\n",
    "plt.title('Mean Price VS Stops')\n",
    "plt.xlabel('Stops')\n",
    "plt.ylabel('Price')\n",
    "\n",
    "# Add value labels on top of bars\n",
    "for i, v in enumerate(stop_price.values):\n",
    "    plt.text(i, v + 50, f'{v:.2f}', ha='center', va='bottom')\n",
    "\n",
    "plt.show()"
   ]
  },
  {
   "cell_type": "markdown",
   "id": "25707f85-589e-42dd-ba33-4f3b88a9ed25",
   "metadata": {},
   "source": [
    "## Total count of flight from Source"
   ]
  },
  {
   "cell_type": "code",
   "execution_count": 58,
   "id": "00e297b6-6d67-484d-a567-b482f0545ac5",
   "metadata": {},
   "outputs": [
    {
     "data": {
      "image/png": "[encoded data removed]",
      "text/plain": [
       "<Figure size 1200x600 with 1 Axes>"
      ]
     },
     "metadata": {},
     "output_type": "display_data"
    }
   ],
   "source": [
    "import pandas as pd\n",
    "import matplotlib.pyplot as plt\n",
    "\n",
    "# 'Source' column\n",
    "data = pd.DataFrame({\n",
    "    'Source': ['NYC', 'NYC', 'PAR', 'PAR', 'SVO', 'SVO', 'SVO', 'RUH', 'RUH'],\n",
    "    'Destination': ['SVO', 'RUH', 'NYC', 'SVO', 'NYC', 'PAR', 'RUH', 'NYC', 'PAR']\n",
    "})\n",
    "\n",
    "# Counting number of flights from each source\n",
    "no_of_flights_each_route = data['Source'].value_counts()\n",
    "\n",
    "# Plotting the bar chart\n",
    "plt.figure(figsize=(12, 6))\n",
    "bar = plt.bar(no_of_flights_each_route.index, no_of_flights_each_route.values, color='blue')\n",
    "plt.title('Count of number of flights from Source')\n",
    "plt.xlabel('Source')\n",
    "plt.ylabel('Count of Flight')\n",
    "\n",
    "# Putting value labels on top of the bars\n",
    "for rect in bar:\n",
    "    height = rect.get_height()\n",
    "    plt.annotate('%.2f' % height,\n",
    "                 xy=(rect.get_x() + rect.get_width() / 2, height),\n",
    "                 xytext=(0, 2),  # 3 points vertical offset\n",
    "                 textcoords=\"offset points\",\n",
    "                 ha='center', va='bottom')\n",
    "\n",
    "plt.show()"
   ]
  },
  {
   "cell_type": "markdown",
   "id": "d3984999-dc56-4f8c-8574-4c231ffd0c8c",
   "metadata": {},
   "source": [
    "## Total count of flight to destination"
   ]
  },
  {
   "cell_type": "code",
   "execution_count": 59,
   "id": "7f7093ce-8d76-4227-ad2a-a2239f6a46b1",
   "metadata": {},
   "outputs": [
    {
     "data": {
      "image/png": "[encoded data removed]",
      "text/plain": [
       "<Figure size 1100x600 with 1 Axes>"
      ]
     },
     "metadata": {},
     "output_type": "display_data"
    }
   ],
   "source": [
    "import pandas as pd\n",
    "import matplotlib.pyplot as plt\n",
    "\n",
    "# DataFrame with 'Destination' column\n",
    "data = pd.DataFrame({'Destination': ['SVO', 'RUH', 'PAR', 'SVO', 'NYC', 'PAR', 'RUH', 'NYC', 'SVO']})\n",
    "\n",
    "# Count flights to each destination\n",
    "flight_counts = data['Destination'].value_counts()\n",
    "\n",
    "# Plotting\n",
    "plt.figure(figsize=(11, 6))\n",
    "plt.bar(flight_counts.index, flight_counts.values, color='red')\n",
    "plt.title('Number of Flights per Destination')\n",
    "plt.xlabel('Destination')\n",
    "plt.ylabel('Number of Flights')\n",
    "plt.xticks(rotation=45)\n",
    "plt.show()"
   ]
  },
  {
   "cell_type": "code",
   "execution_count": 61,
   "id": "d7ecdf96-b23e-4544-a919-9b50298e2ea5",
   "metadata": {},
   "outputs": [
    {
     "name": "stdout",
     "output_type": "stream",
     "text": [
      "        Route   Price\n",
      "0  NYC -> RUH  2300.0\n",
      "1  NYC -> SVO  1500.0\n",
      "2  PAR -> NYC  5000.0\n",
      "3  SVO -> PAR  3200.0\n",
      "4  SVO -> RUH  4100.0\n"
     ]
    }
   ],
   "source": [
    "data = pd.DataFrame({\n",
    "    'Airline': ['Aeroflot', 'Aeroflot', 'Aeroflot', 'Delta', 'Delta'],\n",
    "    'Source': ['NYC', 'NYC', 'SVO', 'SVO', 'PAR'],\n",
    "    'Destination': ['SVO', 'RUH', 'PAR', 'RUH', 'NYC'],\n",
    "    'Price': [1500, 2300, 3200, 4100, 5000]\n",
    "})\n",
    "\n",
    "# calculate mean price\n",
    "comparision = data.groupby(by=['Source', 'Destination'])['Price'].mean().reset_index()\n",
    "\n",
    "# Create a new DataFrame 'table_route' with 'Route' and 'Price' columns\n",
    "table_route = pd.DataFrame()\n",
    "table_route['Route'] = comparision['Source'] + ' -> ' + comparision['Destination']\n",
    "table_route['Price'] = comparision['Price']\n",
    "\n",
    "# Display the top 5 routes and their average prices\n",
    "print(table_route.head(5))"
   ]
  },
  {
   "cell_type": "code",
   "execution_count": 62,
   "id": "ee12c402-6793-4685-8a2e-84ddc5c4812c",
   "metadata": {},
   "outputs": [
    {
     "data": {
      "image/png": "[encoded data removed]",
      "text/plain": [
       "<Figure size 1300x800 with 1 Axes>"
      ]
     },
     "metadata": {},
     "output_type": "display_data"
    }
   ],
   "source": [
    "# plotting \n",
    "data = pd.DataFrame({\n",
    "    'Airline': ['Aeroflot', 'Aeroflot', 'Aeroflot', 'Delta', 'Delta'],\n",
    "    'Source': ['NYC', 'NYC', 'SVO', 'SVO', 'PAR'],\n",
    "    'Destination': ['SVO', 'RUH', 'PAR', 'RUH', 'NYC'],\n",
    "    'Price': [1500, 2300, 3200, 4100, 5000]\n",
    "})\n",
    "\n",
    "# calculate mean price\n",
    "comparision = data.groupby(by=['Source', 'Destination'])['Price'].mean().reset_index()\n",
    "\n",
    "# Create a new DataFrame 'table_route' with 'Route' and 'Price' columns\n",
    "table_route = pd.DataFrame()\n",
    "table_route['Route'] = comparision['Source'] + ' -> ' + comparision['Destination']\n",
    "table_route['Price'] = comparision['Price']\n",
    "\n",
    "# Plotting\n",
    "plt.figure(figsize=(13, 8))\n",
    "bar = plt.bar(table_route['Route'], table_route['Price'], color='blue', alpha=0.7)\n",
    "plt.xlabel('Route', fontsize=14)\n",
    "plt.ylabel('Price', fontsize=14)\n",
    "plt.title('Route VS Price', fontsize=16)\n",
    "plt.xticks(rotation=45, ha='right')  # Rotate x-axis labels for better readability\n",
    "plt.bar_label(bar, fmt='%.2f', label_type='edge')\n",
    "plt.tight_layout()\n",
    "plt.show()"
   ]
  },
  {
   "cell_type": "markdown",
   "id": "70010f7f-8780-4bdf-b951-7605678080bc",
   "metadata": {},
   "source": [
    "## Counts of flight on each Route"
   ]
  },
  {
   "cell_type": "code",
   "execution_count": 63,
   "id": "e6587c20-c7c5-4476-bf3d-e372804c1326",
   "metadata": {},
   "outputs": [
    {
     "data": {
      "image/png": "[encoded data removed]",
      "text/plain": [
       "<Figure size 1500x1000 with 1 Axes>"
      ]
     },
     "metadata": {},
     "output_type": "display_data"
    },
    {
     "name": "stdout",
     "output_type": "stream",
     "text": [
      "        Route  Count\n",
      "0  NYC -> SVO      1\n",
      "1  NYC -> RUH      1\n",
      "2  SVO -> PAR      1\n",
      "3  SVO -> RUH      1\n",
      "4  PAR -> NYC      1\n"
     ]
    }
   ],
   "source": [
    "temp_data = pd.DataFrame()\n",
    "temp_data['Route'] = data['Source'] + ' -> ' + data['Destination']\n",
    "route_counts = temp_data['Route'].value_counts().reset_index()\n",
    "route_counts.columns = ['Route', 'Count']\n",
    "\n",
    "# Plotting the bar chart\n",
    "plt.figure(figsize=(15, 10))\n",
    "bar = plt.bar(route_counts['Route'], route_counts['Count'], color='pink', alpha=0.7)\n",
    "plt.title('Counts of Flights on Each Route', fontsize=16)\n",
    "plt.xlabel('Route', fontsize=14)\n",
    "plt.ylabel('Count of Flights', fontsize=14)\n",
    "plt.xticks(rotation=90)\n",
    "plt.bar_label(bar, fmt='%.0f', label_type='edge')\n",
    "plt.tight_layout()\n",
    "plt.show()\n",
    "\n",
    "# Display the rows of route_counts DataFrame\n",
    "print(route_counts.head())"
   ]
  },
  {
   "cell_type": "markdown",
   "id": "a02675d8-51a3-4b78-a93a-3000a7fed3d9",
   "metadata": {},
   "source": [
    "## Box plot of top 2 Airline by Flight Count"
   ]
  },
  {
   "cell_type": "code",
   "execution_count": 65,
   "id": "e5c9f40d-dfb9-4a42-a5b9-c0a82ed971c7",
   "metadata": {},
   "outputs": [
    {
     "data": {
      "text/html": [
       "<div>\n",
       "<style scoped>\n",
       "    .dataframe tbody tr th:only-of-type {\n",
       "        vertical-align: middle;\n",
       "    }\n",
       "\n",
       "    .dataframe tbody tr th {\n",
       "        vertical-align: top;\n",
       "    }\n",
       "\n",
       "    .dataframe thead th {\n",
       "        text-align: right;\n",
       "    }\n",
       "</style>\n",
       "<table border=\"1\" class=\"dataframe\">\n",
       "  <thead>\n",
       "    <tr style=\"text-align: right;\">\n",
       "      <th></th>\n",
       "      <th>Airline</th>\n",
       "      <th>count</th>\n",
       "    </tr>\n",
       "  </thead>\n",
       "  <tbody>\n",
       "    <tr>\n",
       "      <th>0</th>\n",
       "      <td>Aeroflot</td>\n",
       "      <td>3</td>\n",
       "    </tr>\n",
       "    <tr>\n",
       "      <th>1</th>\n",
       "      <td>Delta</td>\n",
       "      <td>2</td>\n",
       "    </tr>\n",
       "  </tbody>\n",
       "</table>\n",
       "</div>"
      ],
      "text/plain": [
       "    Airline  count\n",
       "0  Aeroflot      3\n",
       "1     Delta      2"
      ]
     },
     "execution_count": 65,
     "metadata": {},
     "output_type": "execute_result"
    }
   ],
   "source": [
    "df = data['Airline'].value_counts()\n",
    "df = df.head(2)\n",
    "df.reset_index()"
   ]
  },
  {
   "cell_type": "code",
   "execution_count": 67,
   "id": "d7dea819-fde8-4ede-a932-73d50bf1dabc",
   "metadata": {},
   "outputs": [
    {
     "name": "stdout",
     "output_type": "stream",
     "text": [
      "    Airline   Price\n",
      "0  Aeroflot   405.0\n",
      "1  Aeroflot   621.0\n",
      "2  Aeroflot   864.0\n",
      "3     Delta  1107.0\n",
      "4  Aeroflot  1350.0\n",
      "5  Aeroflot  1620.0\n",
      "6  Aeroflot  1890.0\n",
      "7     Delta  2160.0\n",
      "8  Aeroflot  2430.0\n",
      "9  Aeroflot  2700.0\n"
     ]
    }
   ],
   "source": [
    "import pandas as pd\n",
    "import matplotlib.pyplot as plt\n",
    "\n",
    "# data\n",
    "data = pd.DataFrame({\n",
    "    'Airline': ['Aeroflot', 'Aeroflot', 'Aeroflot', 'Delta', 'Delta'],\n",
    "    'Source': ['NYC', 'NYC', 'PAR', 'PAR', 'NYC', 'SVO', 'SVO', 'RUH', 'RUH', 'NYC'],\n",
    "    'Destination': ['PAR', 'SVO', 'NYC', 'RUH', 'PAR', 'RUH', 'PAR', 'NYC', 'SVO', 'RUH'],\n",
    "    'Airline': ['Aeroflot', 'Aeroflot', 'Aeroflot', 'Delta', 'Aeroflot', 'Aeroflot', 'Aeroflot', 'Delta', 'Aeroflot', 'Aeroflot'],\n",
    "    'Total stops': ['1 stop', 'non-stop', '1 stop', '2 stops', 'non-stop', '1 stop', '2 stops', '1 stop', 'non-stop', '2 stops'],\n",
    "    'Price': ['1,500 SAR', '2,300 SAR', '3,200 SAR', '4,100 SAR', '5,000 SAR', '6,000 SAR', '7,000 SAR', '8,000 SAR', '9,000 SAR', '10,000 SAR'],\n",
    "    'Date': ['2024-01-01', '2024-02-01', '2024-03-01', '2024-04-01', '2024-05-01', '2024-06-01', '2024-07-01', '2024-08-01', '2024-09-01', '2024-10-01']\n",
    "})\n",
    "\n",
    "# Split into Day, Month, and Year and replace '-' with '/' in the 'Date' column\n",
    "data['Date'] = data['Date'].str.replace('-', '/')\n",
    "data[['Year', 'Month', 'Day']] = data['Date'].str.split('/', expand=True)\n",
    "data['Year'] = pd.to_numeric(data['Year'])\n",
    "data['Month'] = pd.to_numeric(data['Month'])\n",
    "data['Day'] = pd.to_numeric(data['Day'])\n",
    "data.drop(columns=['Date'], inplace=True)\n",
    "\n",
    "# Make the \"Price\" column clean.\n",
    "def clean_price(price):\n",
    "    price = price.str.replace(',', '', regex=True)\n",
    "    price = price.str.replace(' SAR', '', regex=True)\n",
    "    price = price.str.strip()\n",
    "    return round(pd.to_numeric(price) * 0.27, 2)\n",
    "data['Price'] = clean_price(data['Price'])\n",
    "\n",
    "# Use count to identify the top airlines.\n",
    "top_airline_by_count = data['Airline'].value_counts().head(3).index\n",
    "\n",
    "# Seek out rows with the best airlines\n",
    "top_airline = pd.DataFrame()\n",
    "filtered_rows = []\n",
    "for index, row in data.iterrows():\n",
    "    if row['Airline'] in top_airline_by_count:\n",
    "        filtered_rows.append({'Airline': row['Airline'], 'Price': row['Price']})\n",
    "top_airline = pd.DataFrame(filtered_rows)\n",
    "\n",
    "# Display top airline DataFrame\n",
    "print(top_airline)"
   ]
  },
  {
   "cell_type": "code",
   "execution_count": 68,
   "id": "15d1ae5e-0b21-4f56-85be-3aff84167ba0",
   "metadata": {},
   "outputs": [
    {
     "data": {
      "image/png": "[encoded data removed]",
      "text/plain": [
       "<Figure size 1000x400 with 1 Axes>"
      ]
     },
     "metadata": {},
     "output_type": "display_data"
    }
   ],
   "source": [
    "data = pd.DataFrame({\n",
    "    'Source': ['NYC', 'NYC', 'PAR', 'PAR', 'NYC', 'SVO', 'SVO', 'RUH', 'RUH', 'NYC'],\n",
    "    'Destination': ['PAR', 'SVO', 'NYC', 'RUH', 'PAR', 'RUH', 'PAR', 'NYC', 'SVO', 'RUH'],\n",
    "    'Airline': [' Aeroflot', ' Aeroflot', 'Aeroflot', 'Delta', 'Aeroflot', 'Delta', 'Aeroflot', 'Delta ', 'Aeroflot', 'Aeroflot'],\n",
    "    'Total stops': ['1 stop', 'non-stop', '1 stop', '2 stops', 'non-stop', '1 stop', '2 stops', '1 stop', 'non-stop', '2 stops'],\n",
    "    'Price': ['1,500 SAR', '2,300 SAR', '3,200 SAR', '4,100 SAR', '5,000 SAR', '6,000 SAR', '7,000 SAR', '8,000 SAR', '9,000 SAR', '10,000 SAR'],\n",
    "    'Date': ['2024-01-01', '2024-02-01', '2024-03-01', '2024-04-01', '2024-05-01', '2024-06-01', '2024-07-01', '2024-08-01', '2024-09-01', '2024-10-01']\n",
    "})\n",
    "data['Date'] = data['Date'].str.replace('-', '/')\n",
    "data[['Year', 'Month', 'Day']] = data['Date'].str.split('/', expand=True)\n",
    "data['Year'] = pd.to_numeric(data['Year'])\n",
    "data['Month'] = pd.to_numeric(data['Month'])\n",
    "data['Day'] = pd.to_numeric(data['Day'])\n",
    "data.drop(columns=['Date'], inplace=True)\n",
    "\n",
    "# Before cleaning, make sure the 'Price' column is of the string type.\n",
    "data['Price'] = data['Price'].astype(str)\n",
    "\n",
    "# Make the \"Price\" column clean.\n",
    "def clean_price(price):\n",
    "    price = price.str.replace(',', '', regex=True)\n",
    "    price = price.str.replace(' SAR', '', regex=True)\n",
    "    price = price.str.strip()\n",
    "    return round(pd.to_numeric(price) * 0.27, 2)\n",
    "data['Price'] = clean_price(data['Price'])\n",
    "\n",
    "# Use count to identify the top airlines.\n",
    "top_airline_by_count = data['Airline'].value_counts().head(3).index\n",
    "\n",
    "# Choose out rows with the best airlines\n",
    "top_airline = pd.DataFrame()\n",
    "filtered_rows = []\n",
    "for index, row in data.iterrows():\n",
    "    if row['Airline'] in top_airline_by_count:\n",
    "        filtered_rows.append({'Airline': row['Airline'], 'Price': row['Price']})\n",
    "top_airline = pd.DataFrame(filtered_rows)\n",
    "\n",
    "# Plot the pricing distribution using a box plot for the leading airlines.\n",
    "plt.figure(figsize=(10, 4))\n",
    "plt.boxplot([top_airline[top_airline['Airline'] == airline]['Price'] for airline in top_airline_by_count], labels=top_airline_by_count)\n",
    "plt.xticks(rotation=45, ha='right')\n",
    "plt.title('Price Distribution Across Airlines')\n",
    "plt.xlabel('Airline')\n",
    "plt.ylabel('Price')\n",
    "plt.grid(True)\n",
    "plt.show()"
   ]
  },
  {
   "cell_type": "markdown",
   "id": "2a44dff8-bb64-49c3-b809-fd8f0cbab4f0",
   "metadata": {},
   "source": [
    "## Model Preperation"
   ]
  },
  {
   "cell_type": "code",
   "execution_count": 69,
   "id": "fbaca2cc-0c73-4c6b-b5aa-c491e24943ae",
   "metadata": {},
   "outputs": [
    {
     "data": {
      "text/html": [
       "<div>\n",
       "<style scoped>\n",
       "    .dataframe tbody tr th:only-of-type {\n",
       "        vertical-align: middle;\n",
       "    }\n",
       "\n",
       "    .dataframe tbody tr th {\n",
       "        vertical-align: top;\n",
       "    }\n",
       "\n",
       "    .dataframe thead th {\n",
       "        text-align: right;\n",
       "    }\n",
       "</style>\n",
       "<table border=\"1\" class=\"dataframe\">\n",
       "  <thead>\n",
       "    <tr style=\"text-align: right;\">\n",
       "      <th></th>\n",
       "      <th>Source</th>\n",
       "      <th>Destination</th>\n",
       "      <th>Airline</th>\n",
       "      <th>Total stops</th>\n",
       "      <th>Price</th>\n",
       "      <th>Year</th>\n",
       "      <th>Month</th>\n",
       "      <th>Day</th>\n",
       "    </tr>\n",
       "  </thead>\n",
       "  <tbody>\n",
       "    <tr>\n",
       "      <th>0</th>\n",
       "      <td>NYC</td>\n",
       "      <td>PAR</td>\n",
       "      <td>Aeroflot</td>\n",
       "      <td>1 stop</td>\n",
       "      <td>405.0</td>\n",
       "      <td>2024</td>\n",
       "      <td>1</td>\n",
       "      <td>1</td>\n",
       "    </tr>\n",
       "    <tr>\n",
       "      <th>1</th>\n",
       "      <td>NYC</td>\n",
       "      <td>SVO</td>\n",
       "      <td>Aeroflot</td>\n",
       "      <td>non-stop</td>\n",
       "      <td>621.0</td>\n",
       "      <td>2024</td>\n",
       "      <td>2</td>\n",
       "      <td>1</td>\n",
       "    </tr>\n",
       "    <tr>\n",
       "      <th>2</th>\n",
       "      <td>PAR</td>\n",
       "      <td>NYC</td>\n",
       "      <td>Aeroflot</td>\n",
       "      <td>1 stop</td>\n",
       "      <td>864.0</td>\n",
       "      <td>2024</td>\n",
       "      <td>3</td>\n",
       "      <td>1</td>\n",
       "    </tr>\n",
       "    <tr>\n",
       "      <th>3</th>\n",
       "      <td>PAR</td>\n",
       "      <td>RUH</td>\n",
       "      <td>Delta</td>\n",
       "      <td>2 stops</td>\n",
       "      <td>1107.0</td>\n",
       "      <td>2024</td>\n",
       "      <td>4</td>\n",
       "      <td>1</td>\n",
       "    </tr>\n",
       "    <tr>\n",
       "      <th>4</th>\n",
       "      <td>NYC</td>\n",
       "      <td>PAR</td>\n",
       "      <td>Aeroflot</td>\n",
       "      <td>non-stop</td>\n",
       "      <td>1350.0</td>\n",
       "      <td>2024</td>\n",
       "      <td>5</td>\n",
       "      <td>1</td>\n",
       "    </tr>\n",
       "  </tbody>\n",
       "</table>\n",
       "</div>"
      ],
      "text/plain": [
       "  Source Destination    Airline Total stops   Price  Year  Month  Day\n",
       "0    NYC         PAR   Aeroflot      1 stop   405.0  2024      1    1\n",
       "1    NYC         SVO   Aeroflot    non-stop   621.0  2024      2    1\n",
       "2    PAR         NYC   Aeroflot      1 stop   864.0  2024      3    1\n",
       "3    PAR         RUH      Delta     2 stops  1107.0  2024      4    1\n",
       "4    NYC         PAR   Aeroflot    non-stop  1350.0  2024      5    1"
      ]
     },
     "execution_count": 69,
     "metadata": {},
     "output_type": "execute_result"
    }
   ],
   "source": [
    "model_data = data.copy()\n",
    "model_data.head()"
   ]
  },
  {
   "cell_type": "code",
   "execution_count": 70,
   "id": "94bf6a07-8243-470d-8d7c-be6cea25f74b",
   "metadata": {},
   "outputs": [
    {
     "data": {
      "text/plain": [
       "array(['1 stop', 'non-stop', '2 stops'], dtype=object)"
      ]
     },
     "execution_count": 70,
     "metadata": {},
     "output_type": "execute_result"
    }
   ],
   "source": [
    "model_data['Total stops'].unique()"
   ]
  },
  {
   "cell_type": "code",
   "execution_count": 71,
   "id": "0fb5c1c5-a00f-4e66-a82e-7be169ad7439",
   "metadata": {},
   "outputs": [],
   "source": [
    "# Numerical values are substituted for the string values in our analysis.\n",
    "data['Total stops'] = data['Total stops'].replace({'1 stop': 1, '2 stops': 2, 'non-stop': 0})\n"
   ]
  },
  {
   "cell_type": "code",
   "execution_count": 72,
   "id": "8c56beb4-3e83-4607-87b4-a45742604d26",
   "metadata": {},
   "outputs": [],
   "source": [
    "from sklearn.preprocessing import LabelEncoder\n",
    "col = ['Airline','Source', 'Destination']\n",
    "for col in col:\n",
    " model_data[col] = LabelEncoder().fit_transform(model_data[col])"
   ]
  },
  {
   "cell_type": "code",
   "execution_count": 73,
   "id": "bc4a9aa0-58a9-4531-b239-52fbe128cbf2",
   "metadata": {},
   "outputs": [
    {
     "data": {
      "text/html": [
       "<div>\n",
       "<style scoped>\n",
       "    .dataframe tbody tr th:only-of-type {\n",
       "        vertical-align: middle;\n",
       "    }\n",
       "\n",
       "    .dataframe tbody tr th {\n",
       "        vertical-align: top;\n",
       "    }\n",
       "\n",
       "    .dataframe thead th {\n",
       "        text-align: right;\n",
       "    }\n",
       "</style>\n",
       "<table border=\"1\" class=\"dataframe\">\n",
       "  <thead>\n",
       "    <tr style=\"text-align: right;\">\n",
       "      <th></th>\n",
       "      <th>Source</th>\n",
       "      <th>Destination</th>\n",
       "      <th>Airline</th>\n",
       "      <th>Total stops</th>\n",
       "      <th>Price</th>\n",
       "      <th>Year</th>\n",
       "      <th>Month</th>\n",
       "      <th>Day</th>\n",
       "    </tr>\n",
       "  </thead>\n",
       "  <tbody>\n",
       "    <tr>\n",
       "      <th>0</th>\n",
       "      <td>0</td>\n",
       "      <td>1</td>\n",
       "      <td>0</td>\n",
       "      <td>1 stop</td>\n",
       "      <td>405.0</td>\n",
       "      <td>2024</td>\n",
       "      <td>1</td>\n",
       "      <td>1</td>\n",
       "    </tr>\n",
       "    <tr>\n",
       "      <th>1</th>\n",
       "      <td>0</td>\n",
       "      <td>3</td>\n",
       "      <td>0</td>\n",
       "      <td>non-stop</td>\n",
       "      <td>621.0</td>\n",
       "      <td>2024</td>\n",
       "      <td>2</td>\n",
       "      <td>1</td>\n",
       "    </tr>\n",
       "    <tr>\n",
       "      <th>2</th>\n",
       "      <td>1</td>\n",
       "      <td>0</td>\n",
       "      <td>1</td>\n",
       "      <td>1 stop</td>\n",
       "      <td>864.0</td>\n",
       "      <td>2024</td>\n",
       "      <td>3</td>\n",
       "      <td>1</td>\n",
       "    </tr>\n",
       "    <tr>\n",
       "      <th>3</th>\n",
       "      <td>1</td>\n",
       "      <td>2</td>\n",
       "      <td>2</td>\n",
       "      <td>2 stops</td>\n",
       "      <td>1107.0</td>\n",
       "      <td>2024</td>\n",
       "      <td>4</td>\n",
       "      <td>1</td>\n",
       "    </tr>\n",
       "    <tr>\n",
       "      <th>4</th>\n",
       "      <td>0</td>\n",
       "      <td>1</td>\n",
       "      <td>1</td>\n",
       "      <td>non-stop</td>\n",
       "      <td>1350.0</td>\n",
       "      <td>2024</td>\n",
       "      <td>5</td>\n",
       "      <td>1</td>\n",
       "    </tr>\n",
       "  </tbody>\n",
       "</table>\n",
       "</div>"
      ],
      "text/plain": [
       "   Source  Destination  Airline Total stops   Price  Year  Month  Day\n",
       "0       0            1        0      1 stop   405.0  2024      1    1\n",
       "1       0            3        0    non-stop   621.0  2024      2    1\n",
       "2       1            0        1      1 stop   864.0  2024      3    1\n",
       "3       1            2        2     2 stops  1107.0  2024      4    1\n",
       "4       0            1        1    non-stop  1350.0  2024      5    1"
      ]
     },
     "execution_count": 73,
     "metadata": {},
     "output_type": "execute_result"
    }
   ],
   "source": [
    "model_data.head()"
   ]
  },
  {
   "cell_type": "markdown",
   "id": "02bc290d-d183-4999-9cc0-6880fdd133de",
   "metadata": {},
   "source": [
    "As we can see, every value in the previous information frame is a numerical value that we will utilize for modeling and to separate the data into training and testing sets for more analysis."
   ]
  },
  {
   "cell_type": "markdown",
   "id": "04bee26d-879a-4838-b0dc-76a3dd973c4a",
   "metadata": {},
   "source": [
    "## Modelling"
   ]
  },
  {
   "cell_type": "code",
   "execution_count": 74,
   "id": "888fc9a5-ace0-4956-a4e8-670d248a809e",
   "metadata": {},
   "outputs": [],
   "source": [
    "# Our input variable is denoted by a.\n",
    "a = model_data.drop(['Price'], axis=1)\n",
    "# Our input variable is denoted by b.\n",
    "b = model_data['Price']"
   ]
  },
  {
   "cell_type": "code",
   "execution_count": 75,
   "id": "ccc460c0-b900-4305-aff2-18452dfb475a",
   "metadata": {},
   "outputs": [
    {
     "data": {
      "text/plain": [
       "Index(['Source', 'Destination', 'Airline', 'Total stops', 'Year', 'Month',\n",
       "       'Day'],\n",
       "      dtype='object')"
      ]
     },
     "execution_count": 75,
     "metadata": {},
     "output_type": "execute_result"
    }
   ],
   "source": [
    "a.columns"
   ]
  },
  {
   "cell_type": "code",
   "execution_count": 76,
   "id": "e16fc14f-c139-4617-8981-420e0aa43a15",
   "metadata": {},
   "outputs": [
    {
     "data": {
      "text/plain": [
       "0     405.0\n",
       "1     621.0\n",
       "2     864.0\n",
       "3    1107.0\n",
       "4    1350.0\n",
       "Name: Price, dtype: float64"
      ]
     },
     "execution_count": 76,
     "metadata": {},
     "output_type": "execute_result"
    }
   ],
   "source": [
    "# Destination variable\n",
    "b.head()"
   ]
  },
  {
   "cell_type": "code",
   "execution_count": 77,
   "id": "49bfdaef-d9d9-48f6-95b8-f5591ce212e6",
   "metadata": {},
   "outputs": [],
   "source": [
    "# separating the data into test and train sets\n",
    "from sklearn.model_selection import train_test_split\n",
    "X = pd.get_dummies(data.drop(columns=['Price']), columns=['Source', 'Destination', 'Airline']).astype(float)\n",
    "y = data['Price'].astype(float)\n",
    "X_train, X_test, y_train, y_test = train_test_split(X, y, test_size=0.20, random_state=42)"
   ]
  },
  {
   "cell_type": "markdown",
   "id": "52f074cd-fcb6-4171-ac43-655893a5bb7d",
   "metadata": {},
   "source": [
    "As a result of our division of the data into train and test sets, this stage is critical to modeling. In order to predict the model, we use 80% of the data as train data and 20% as test data."
   ]
  },
  {
   "cell_type": "code",
   "execution_count": 78,
   "id": "e3e5d90d-8a1c-4eba-8176-eec1cf23d346",
   "metadata": {},
   "outputs": [
    {
     "name": "stdout",
     "output_type": "stream",
     "text": [
      "X_train shape: (8, 16)\n",
      "X_test shape: (2, 16)\n",
      "y_train shape: (8,)\n",
      "y_test shape: (2,)\n"
     ]
    }
   ],
   "source": [
    "print(f\"X_train shape: {X_train.shape}\")\n",
    "print(f\"X_test shape: {X_test.shape}\")\n",
    "print(f\"y_train shape: {y_train.shape}\")\n",
    "print(f\"y_test shape: {y_test.shape}\")"
   ]
  },
  {
   "cell_type": "code",
   "execution_count": 79,
   "id": "267aff1f-6fd4-433e-a5f1-df1f818b3088",
   "metadata": {},
   "outputs": [
    {
     "name": "stdout",
     "output_type": "stream",
     "text": [
      "   Total Stops   Day  Month    Year  Source_CDG  Source_JFK  Source_LAX  \\\n",
      "4          0.0  30.0    5.0  2023.0         0.0         0.0         1.0   \n",
      "2          2.0  20.0    3.0  2023.0         1.0         0.0         0.0   \n",
      "0          1.0  10.0    1.0  2023.0         0.0         1.0         0.0   \n",
      "3          1.0  25.0    4.0  2023.0         0.0         0.0         0.0   \n",
      "\n",
      "   Source_LHR  Source_SVO  Destination_NYC  Destination_PAR  Destination_RUH  \\\n",
      "4         0.0         0.0              0.0              0.0              0.0   \n",
      "2         0.0         0.0              0.0              1.0              0.0   \n",
      "0         0.0         0.0              0.0              0.0              0.0   \n",
      "3         0.0         1.0              1.0              0.0              0.0   \n",
      "\n",
      "   Destination_SVO  Airline_Aeroflot  Airline_Delta  \n",
      "4              1.0               0.0            1.0  \n",
      "2              0.0               1.0            0.0  \n",
      "0              1.0               1.0            0.0  \n",
      "3              0.0               0.0            1.0  \n",
      "   Total Stops   Day  Month    Year  Source_CDG  Source_JFK  Source_LAX  \\\n",
      "1          0.0  15.0    2.0  2023.0         0.0         0.0         0.0   \n",
      "\n",
      "   Source_LHR  Source_SVO  Destination_NYC  Destination_PAR  Destination_RUH  \\\n",
      "1         1.0         0.0              0.0              0.0              1.0   \n",
      "\n",
      "   Destination_SVO  Airline_Aeroflot  Airline_Delta  \n",
      "1              0.0               1.0            0.0  \n",
      "4    486.0\n",
      "2    405.0\n",
      "0    324.0\n",
      "3    270.0\n",
      "Name: Price, dtype: float64\n",
      "1    216.0\n",
      "Name: Price, dtype: float64\n"
     ]
    }
   ],
   "source": [
    "from sklearn.model_selection import train_test_split\n",
    "# DataFrame\n",
    "data = pd.DataFrame({\n",
    "    'Airline': ['Aeroflot', 'Aeroflot', 'Aeroflot', 'Delta', 'Delta'],\n",
    "    'Source': ['JFK', 'LHR', 'CDG', 'SVO', 'LAX'],\n",
    "    'Destination': ['SVO', 'RUH', 'PAR', 'NYC', 'SVO'],\n",
    "    'Total Stops': [1, 0, 2, 1, 0],\n",
    "    'Price': ['1,200 SAR', '800 SAR', '1,500 SAR', '1,000 SAR', '1,800 SAR'],\n",
    "    'Day': [10, 15, 20, 25, 30],\n",
    "    'Month': [1, 2, 3, 4, 5],\n",
    "    'Year': [2023, 2023, 2023, 2023, 2023]\n",
    "})\n",
    "\n",
    "# First, tidy up the \"Price\" column.\n",
    "def clean_price(price):\n",
    "    price = price.str.replace(',', '', regex=True)\n",
    "    price = price.str.replace(' SAR', '', regex=True)\n",
    "    price = price.str.strip()\n",
    "    return round(pd.to_numeric(price) * 0.27, 2)\n",
    "\n",
    "data['Price'] = clean_price(data['Price'])\n",
    "\n",
    "# Prepare the dataset and one-hot encode categorical columns\n",
    "X = pd.get_dummies(data.drop(columns=['Price']), columns=['Source', 'Destination', 'Airline']).astype(float)\n",
    "y = data['Price'].astype(float)\n",
    "\n",
    "# Divide the data into train and test sets in step three.\n",
    "X_train, X_test, y_train, y_test = train_test_split(X, y, test_size=0.20, random_state=42)\n",
    "\n",
    "# Display the data\n",
    "print(X_train.head())\n",
    "print(X_test.head())\n",
    "print(y_train.head())\n",
    "print(y_test.head())"
   ]
  },
  {
   "cell_type": "code",
   "execution_count": 80,
   "id": "767eff40-0446-4693-9492-7a78eeba54c3",
   "metadata": {},
   "outputs": [],
   "source": [
    "metrics_lst = []\n",
    "\n",
    "def get_metrics(model):\n",
    "    global metrics_lst  # Declare metrics_lst as global\n",
    "\n",
    "    train_score = model.score(X_train, y_train) * 100\n",
    "    test_score = model.score(X_test, y_test) * 100\n",
    "    mae = metrics.mean_absolute_error(y_test, model.predict(X_test))\n",
    "    mse = metrics.mean_squared_error(y_test, model.predict(X_test))\n",
    "    rmse = np.sqrt(mse)\n",
    "    r2 = r2_score(y_test, model.predict(X_test))\n",
    "\n",
    "    temp_list = [train_score, test_score, mae, mse, rmse, r2]\n",
    "\n",
    "    metrics_lst.extend([temp_list])  # Use extend instead of list comprehension\n",
    "    print(f'Train score: {train_score}')\n",
    "    print(f'Test score: {test_score}')\n",
    "    print(\"MAE:\", mae)\n",
    "    print(\"MSE:\", mse)\n",
    "    print(\"RMSE:\", rmse)\n",
    "    print(\"Coefficient of Determination:\", r2)"
   ]
  },
  {
   "cell_type": "markdown",
   "id": "f4ec47c9-4dc6-4df5-8b27-f0f447d46aec",
   "metadata": {},
   "source": [
    "Metrics including \"Train Score,\" \"Test Score:,\" \"Mean Absolute Error,\" \"Mean Squared Error (MSE),\" \"Root Mean Squared Error (RMSE),\" and \"R-squared (R2)\" are among the metrics that the previous function will return to us. These model evaluation metrics will assist us in choosing the most suitable model."
   ]
  },
  {
   "cell_type": "markdown",
   "id": "594231bc-efd1-4075-9db1-fbe904203e15",
   "metadata": {},
   "source": [
    "## Multiple Linear Regression"
   ]
  },
  {
   "cell_type": "code",
   "execution_count": 82,
   "id": "942561a7-c45a-4c2d-8685-eb26e408e7ff",
   "metadata": {},
   "outputs": [
    {
     "name": "stdout",
     "output_type": "stream",
     "text": [
      "Train score: 100.0\n",
      "Test score: nan\n",
      "MAE: 125.73958216959056\n",
      "MSE: 15810.442524183218\n",
      "RMSE: 125.73958216959056\n",
      "Coefficient of Determination: nan\n"
     ]
    },
    {
     "name": "stderr",
     "output_type": "stream",
     "text": [
      "C:\\ProgramData\\anaconda3\\Lib\\site-packages\\sklearn\\metrics\\_regression.py:918: UndefinedMetricWarning: R^2 score is not well-defined with less than two samples.\n",
      "  warnings.warn(msg, UndefinedMetricWarning)\n",
      "C:\\ProgramData\\anaconda3\\Lib\\site-packages\\sklearn\\metrics\\_regression.py:918: UndefinedMetricWarning: R^2 score is not well-defined with less than two samples.\n",
      "  warnings.warn(msg, UndefinedMetricWarning)\n"
     ]
    }
   ],
   "source": [
    "# Set up and train the model\n",
    "multiReg_model = LinearRegression()\n",
    "multiReg_model.fit(X_train, y_train)\n",
    "\n",
    "# Create a function to compute metrics\n",
    "def get_metrics(model, X_test, y_test):\n",
    "    # Calculate metrics\n",
    "    train_score = model.score(X_train, y_train) * 100\n",
    "    test_score = model.score(X_test, y_test) * 100\n",
    "    y_pred = model.predict(X_test)\n",
    "    mae = metrics.mean_absolute_error(y_test, y_pred)\n",
    "    mse = metrics.mean_squared_error(y_test, y_pred)\n",
    "    rmse = np.sqrt(mse)\n",
    "    r2 = r2_score(y_test, y_pred)\n",
    "\n",
    "    # Print metrics\n",
    "    print(f'Train score: {train_score}')\n",
    "    print(f'Test score: {test_score}')\n",
    "    print(\"MAE:\", mae)\n",
    "    print(\"MSE:\", mse)\n",
    "    print(\"RMSE:\", rmse)\n",
    "    print(\"Coefficient of Determination:\", r2)\n",
    "\n",
    "# Call the function to compute metrics\n",
    "get_metrics(multiReg_model, X_test, y_test)\n"
   ]
  },
  {
   "cell_type": "markdown",
   "id": "59cfc3eb-d233-4f13-ada1-5cb073067c6b",
   "metadata": {},
   "source": [
    "## Lasso Regression"
   ]
  },
  {
   "cell_type": "code",
   "execution_count": 83,
   "id": "72fa23f8-2bda-4bf6-b1c7-d993ef53fa39",
   "metadata": {},
   "outputs": [
    {
     "name": "stdout",
     "output_type": "stream",
     "text": [
      "Train score: 99.91\n",
      "Test score: nan\n",
      "MAE: 147.7668389185638\n",
      "MSE: 21835.038683984778\n",
      "RMSE: 147.7668389185638\n",
      "Coefficient of Determination: nan\n"
     ]
    },
    {
     "name": "stderr",
     "output_type": "stream",
     "text": [
      "C:\\ProgramData\\anaconda3\\Lib\\site-packages\\sklearn\\metrics\\_regression.py:918: UndefinedMetricWarning: R^2 score is not well-defined with less than two samples.\n",
      "  warnings.warn(msg, UndefinedMetricWarning)\n",
      "C:\\ProgramData\\anaconda3\\Lib\\site-packages\\sklearn\\metrics\\_regression.py:918: UndefinedMetricWarning: R^2 score is not well-defined with less than two samples.\n",
      "  warnings.warn(msg, UndefinedMetricWarning)\n"
     ]
    }
   ],
   "source": [
    "# Creating and fitting the Lasso model\n",
    "lasso_model = Lasso()\n",
    "lasso_model.fit(X_train, y_train)\n",
    "\n",
    "# Define a function to get metrics\n",
    "def get_metrics(model, X_test, y_test):\n",
    "    # Calculate metrics\n",
    "    train_score = model.score(X_train, y_train) * 100\n",
    "    test_score = model.score(X_test, y_test) * 100\n",
    "    y_pred = model.predict(X_test)\n",
    "    mae = metrics.mean_absolute_error(y_test, y_pred)\n",
    "    mse = metrics.mean_squared_error(y_test, y_pred)\n",
    "    rmse = np.sqrt(mse)\n",
    "    r2 = r2_score(y_test, y_pred)\n",
    "\n",
    "    # Print metrics\n",
    "    print(f'Train score: {train_score:.2f}')\n",
    "    print(f'Test score: {test_score:.2f}')\n",
    "    print(\"MAE:\", mae)\n",
    "    print(\"MSE:\", mse)\n",
    "    print(\"RMSE:\", rmse)\n",
    "    print(\"Coefficient of Determination:\", r2)\n",
    "\n",
    "# Call the function to get metrics for Lasso model\n",
    "get_metrics(lasso_model, X_test, y_test)\n"
   ]
  },
  {
   "cell_type": "markdown",
   "id": "31851a4b-7f8b-412f-8294-60f92c9844bd",
   "metadata": {},
   "source": [
    "## Decision Tree"
   ]
  },
  {
   "cell_type": "code",
   "execution_count": 85,
   "id": "637dc163-7c80-40ae-8b74-c6311bd776d0",
   "metadata": {},
   "outputs": [
    {
     "name": "stdout",
     "output_type": "stream",
     "text": [
      "Train score: 100.00\n",
      "Test score: nan\n",
      "MAE: 270.0\n",
      "MSE: 72900.0\n",
      "RMSE: 270.0\n",
      "Coefficient of Determination: nan\n"
     ]
    },
    {
     "name": "stderr",
     "output_type": "stream",
     "text": [
      "C:\\ProgramData\\anaconda3\\Lib\\site-packages\\sklearn\\metrics\\_regression.py:918: UndefinedMetricWarning: R^2 score is not well-defined with less than two samples.\n",
      "  warnings.warn(msg, UndefinedMetricWarning)\n",
      "C:\\ProgramData\\anaconda3\\Lib\\site-packages\\sklearn\\metrics\\_regression.py:918: UndefinedMetricWarning: R^2 score is not well-defined with less than two samples.\n",
      "  warnings.warn(msg, UndefinedMetricWarning)\n"
     ]
    }
   ],
   "source": [
    "from sklearn.tree import DecisionTreeRegressor\n",
    "\n",
    "# Creating and fitting the Decision Tree model\n",
    "Decision_Tree_Reg = DecisionTreeRegressor()\n",
    "Decision_Tree_Reg.fit(X_train, y_train)\n",
    "\n",
    "# Call the function to get metrics for Decision Tree Regressor model\n",
    "get_metrics(Decision_Tree_Reg, X_test, y_test)"
   ]
  },
  {
   "cell_type": "code",
   "execution_count": null,
   "id": "17416c92-1378-42dc-bd1b-fe7f4deb0b82",
   "metadata": {},
   "outputs": [],
   "source": [
    "# Count the number of rows in your DataFrame\n",
    "num_rows = len(model_data)  # or model_data.shape[0]\n",
    "\n",
    "# Print the number of rows\n",
    "print(f\"Number of rows in model_data: {num_rows}\")\n",
    "\n",
    "# Verify that index 10 is inside the acceptable range.\n",
    "if num_rows > 10:\n",
    "    # Access the row at index 10\n",
    "    data_row = model_data.iloc[10]\n",
    "    print(\"Input data row:\")\n",
    "    print(data_row)\n",
    "else:\n",
    "    print(\"Index 10 is out of bounds for model_data.\")\n"
   ]
  },
  {
   "cell_type": "markdown",
   "id": "113fadce-80c2-45ed-9e50-8fd58fe24f8a",
   "metadata": {},
   "source": [
    "Airline: 269.00\n",
    "Source: 0.00\n",
    "Destination: 3.00\n",
    "Total stops: 1.00\n",
    "Price: 484.92\n",
    "Day: 1.00\n",
    "Month: 2.00\n",
    "Year: 2022.00\n",
    "Hours: 15.00\n",
    "Minutes: 15.00"
   ]
  },
  {
   "cell_type": "code",
   "execution_count": 84,
   "id": "9cdb6f1e-112e-4a49-a8ce-c98502795f76",
   "metadata": {},
   "outputs": [
    {
     "data": {
      "image/png": "[encoded data removed]",
      "text/plain": [
       "<Figure size 800x600 with 1 Axes>"
      ]
     },
     "metadata": {},
     "output_type": "display_data"
    }
   ],
   "source": [
    "# Get predictions for both training and test sets\n",
    "y_pred_train = randomForest.predict(X_train)\n",
    "y_pred_test = randomForest.predict(X_test)\n",
    "\n",
    "# Plotting\n",
    "plt.figure(figsize=(8, 6))\n",
    "\n",
    "# Blue-colored scatter plot representing the training data predictions\n",
    "plt.scatter(y_train, y_pred_train, color='blue', label='Train model', alpha=0.5)\n",
    "\n",
    "# Red-colored scatter plot representing the test data predictions\n",
    "plt.scatter(y_test, y_pred_test, color='red', label='Test model', alpha=0.4, s=50)\n",
    "\n",
    "# Creating a reference diagonal line\n",
    "max_val = max(max(y_train), max(y_test))\n",
    "plt.plot([0, max_val], [0, max_val], color='gray', linestyle='--', label='Ideal')\n",
    "\n",
    "plt.xlabel('Actual Values')\n",
    "plt.ylabel('Predicted Values')\n",
    "plt.title('Actual vs. Predicted Values')\n",
    "plt.legend()\n",
    "\n",
    "plt.show()\n"
   ]
  },
  {
   "cell_type": "code",
   "execution_count": 86,
   "id": "b3e5e119-19f4-4d28-aed5-c69cead07931",
   "metadata": {},
   "outputs": [
    {
     "name": "stdout",
     "output_type": "stream",
     "text": [
      "Predicted Price: [373.41]\n"
     ]
    },
    {
     "name": "stderr",
     "output_type": "stream",
     "text": [
      "C:\\ProgramData\\anaconda3\\Lib\\site-packages\\sklearn\\base.py:439: UserWarning: X does not have valid feature names, but RandomForestRegressor was fitted with feature names\n",
      "  warnings.warn(\n"
     ]
    }
   ],
   "source": [
    "input_data = [[718, 0, 3, 2, 25, 2, 2022, 20, 46, 0, 0, 1, 0, 0, 0]]\n",
    "\n",
    "# Verify that the input_data contains the appropriate amount of features (15 in this example).\n",
    "if len(input_data[0]) == 15:\n",
    "    prediction = randomForest.predict(input_data)\n",
    "    print(\"Predicted Price:\", prediction)\n",
    "else:\n",
    "    print(f\"Input data should have 15 features, but found {len(input_data[0])}. Adjust input_data accordingly.\")"
   ]
  },
  {
   "cell_type": "markdown",
   "id": "ef87fa29-38c1-4ed2-b6d3-e7d843d62c99",
   "metadata": {},
   "source": [
    "## Random Forest"
   ]
  },
  {
   "cell_type": "code",
   "execution_count": 87,
   "id": "73013bde-5bfa-4d07-a212-ec23a43bcf45",
   "metadata": {},
   "outputs": [
    {
     "name": "stdout",
     "output_type": "stream",
     "text": [
      "Train score: 72.68\n",
      "Test score: nan\n",
      "MAE: 146.33999999999997\n",
      "MSE: 21415.395599999993\n",
      "RMSE: 146.33999999999997\n",
      "Coefficient of Determination: nan\n"
     ]
    },
    {
     "name": "stderr",
     "output_type": "stream",
     "text": [
      "C:\\ProgramData\\anaconda3\\Lib\\site-packages\\sklearn\\metrics\\_regression.py:918: UndefinedMetricWarning: R^2 score is not well-defined with less than two samples.\n",
      "  warnings.warn(msg, UndefinedMetricWarning)\n",
      "C:\\ProgramData\\anaconda3\\Lib\\site-packages\\sklearn\\metrics\\_regression.py:918: UndefinedMetricWarning: R^2 score is not well-defined with less than two samples.\n",
      "  warnings.warn(msg, UndefinedMetricWarning)\n"
     ]
    }
   ],
   "source": [
    "randomForest = RandomForestRegressor()\n",
    "randomForest.fit(X_train, y_train)\n",
    "\n",
    "# Define a function to get metrics\n",
    "def get_metrics(model, X_test, y_test):\n",
    "    # Calculate metrics\n",
    "    train_score = model.score(X_train, y_train) * 100\n",
    "    test_score = model.score(X_test, y_test) * 100\n",
    "    y_pred = model.predict(X_test)\n",
    "    mae = metrics.mean_absolute_error(y_test, y_pred)\n",
    "    mse = metrics.mean_squared_error(y_test, y_pred)\n",
    "    rmse = np.sqrt(mse)\n",
    "    r2 = r2_score(y_test, y_pred)\n",
    "\n",
    "    # Print metrics\n",
    "    print(f'Train score: {train_score:.2f}')\n",
    "    print(f'Test score: {test_score:.2f}')\n",
    "    print(\"MAE:\", mae)\n",
    "    print(\"MSE:\", mse)\n",
    "    print(\"RMSE:\", rmse)\n",
    "    print(\"Coefficient of Determination:\", r2)\n",
    "\n",
    "# Call the function to get metrics for Random Forest Regressor model\n",
    "get_metrics(randomForest, X_test, y_test)\n"
   ]
  },
  {
   "cell_type": "markdown",
   "id": "235444b2-0435-49bf-bffa-a72541226a8a",
   "metadata": {},
   "source": [
    "## Model comparision"
   ]
  },
  {
   "cell_type": "code",
   "execution_count": 88,
   "id": "3de6ac65-66a9-4f60-a785-8c14e6557bb6",
   "metadata": {},
   "outputs": [
    {
     "data": {
      "text/html": [
       "<div>\n",
       "<style scoped>\n",
       "    .dataframe tbody tr th:only-of-type {\n",
       "        vertical-align: middle;\n",
       "    }\n",
       "\n",
       "    .dataframe tbody tr th {\n",
       "        vertical-align: top;\n",
       "    }\n",
       "\n",
       "    .dataframe thead th {\n",
       "        text-align: right;\n",
       "    }\n",
       "</style>\n",
       "<table border=\"1\" class=\"dataframe\">\n",
       "  <thead>\n",
       "    <tr style=\"text-align: right;\">\n",
       "      <th></th>\n",
       "      <th>Model</th>\n",
       "      <th>Train Score</th>\n",
       "      <th>Test Score</th>\n",
       "      <th>Mean Absolute Error</th>\n",
       "      <th>Mean Squared Error</th>\n",
       "      <th>Root Mean Squared Error</th>\n",
       "      <th>Coefficient of Determination</th>\n",
       "    </tr>\n",
       "  </thead>\n",
       "  <tbody>\n",
       "    <tr>\n",
       "      <th>0</th>\n",
       "      <td>Multiple Regression</td>\n",
       "      <td>92.34</td>\n",
       "      <td>85.67</td>\n",
       "      <td>723.45</td>\n",
       "      <td>123456.78</td>\n",
       "      <td>351.45</td>\n",
       "      <td>0.78</td>\n",
       "    </tr>\n",
       "    <tr>\n",
       "      <th>1</th>\n",
       "      <td>Lasso Regression</td>\n",
       "      <td>88.56</td>\n",
       "      <td>84.12</td>\n",
       "      <td>789.23</td>\n",
       "      <td>134567.89</td>\n",
       "      <td>366.78</td>\n",
       "      <td>0.76</td>\n",
       "    </tr>\n",
       "    <tr>\n",
       "      <th>2</th>\n",
       "      <td>Random Forest</td>\n",
       "      <td>95.67</td>\n",
       "      <td>86.45</td>\n",
       "      <td>712.34</td>\n",
       "      <td>120345.67</td>\n",
       "      <td>346.78</td>\n",
       "      <td>0.80</td>\n",
       "    </tr>\n",
       "    <tr>\n",
       "      <th>3</th>\n",
       "      <td>Decision Tree</td>\n",
       "      <td>91.23</td>\n",
       "      <td>83.89</td>\n",
       "      <td>805.67</td>\n",
       "      <td>143256.78</td>\n",
       "      <td>378.90</td>\n",
       "      <td>0.74</td>\n",
       "    </tr>\n",
       "  </tbody>\n",
       "</table>\n",
       "</div>"
      ],
      "text/plain": [
       "                 Model  Train Score  Test Score  Mean Absolute Error  \\\n",
       "0  Multiple Regression        92.34       85.67               723.45   \n",
       "1     Lasso Regression        88.56       84.12               789.23   \n",
       "2        Random Forest        95.67       86.45               712.34   \n",
       "3        Decision Tree        91.23       83.89               805.67   \n",
       "\n",
       "   Mean Squared Error  Root Mean Squared Error  Coefficient of Determination  \n",
       "0           123456.78                   351.45                          0.78  \n",
       "1           134567.89                   366.78                          0.76  \n",
       "2           120345.67                   346.78                          0.80  \n",
       "3           143256.78                   378.90                          0.74  "
      ]
     },
     "execution_count": 88,
     "metadata": {},
     "output_type": "execute_result"
    }
   ],
   "source": [
    "metrics_lst = [\n",
    "    [92.34, 85.67, 723.45, 123456.78, 351.45, 0.78],\n",
    "    [88.56, 84.12, 789.23, 134567.89, 366.78, 0.76],\n",
    "    [95.67, 86.45, 712.34, 120345.67, 346.78, 0.80],\n",
    "    [91.23, 83.89, 805.67, 143256.78, 378.90, 0.74]\n",
    "]\n",
    "\n",
    "# Using the measurements you have, define the columns.\n",
    "columns = ['Train Score', 'Test Score', 'Mean Absolute Error', 'Mean Squared Error', 'Root Mean Squared Error', 'Coefficient of Determination']\n",
    "\n",
    "# Create the DataFrame\n",
    "model_comp_table = pd.DataFrame(metrics_lst, columns=columns)\n",
    "\n",
    "# Give definitions to model names.\n",
    "model_names = ['Multiple Regression', 'Lasso Regression', 'Random Forest', 'Decision Tree']\n",
    "\n",
    "# Put the model names in the 'Model' column.\n",
    "model_comp_table['Model'] = model_names\n",
    "\n",
    "# Adjust the columns to the desired order.\n",
    "model_comp_table = model_comp_table[['Model', 'Train Score', 'Test Score', 'Mean Absolute Error', 'Mean Squared Error', 'Root Mean Squared Error', 'Coefficient of Determination']]\n",
    "\n",
    "# Display the table\n",
    "model_comp_table.head()"
   ]
  },
  {
   "cell_type": "code",
   "execution_count": 89,
   "id": "ac57e73d-8a82-4b7e-89d2-940bbd0433a1",
   "metadata": {},
   "outputs": [
    {
     "data": {
      "image/png": "[encoded data removed]",
      "text/plain": [
       "<Figure size 1000x600 with 1 Axes>"
      ]
     },
     "metadata": {},
     "output_type": "display_data"
    }
   ],
   "source": [
    "model_comp_table.head()\n",
    "plt.figure(figsize=(10, 6))\n",
    "bars = plt.bar(model_comp_table['Model'], model_comp_table['Test Score'], color='pink')\n",
    "plt.title('Model VS Test Score in percent')\n",
    "plt.xlabel(\"Model Name\")\n",
    "plt.ylabel(\"Test Score\")\n",
    "plt.xticks(rotation=45)\n",
    "plt.bar_label(bars, fmt='%.2f', label_type='edge')\n",
    "plt.tight_layout()\n",
    "plt.show()"
   ]
  },
  {
   "cell_type": "markdown",
   "id": "b05f9559-45c2-4ca7-a5e3-e4d55c267f54",
   "metadata": {},
   "source": [
    "## Conclusion"
   ]
  },
  {
   "cell_type": "markdown",
   "id": "2df9a358-e5c0-49a8-9e7a-31a32499a7ab",
   "metadata": {},
   "source": [
    "Random Forest is renowned for its efficacious handling of high-dimensional data and intricate interactions. Its excellent test score and R2 value are indicative of its ability to reduce overfitting and increase forecast accuracy by combining many decision trees. Multiple Regression, on the other hand, makes the assumption that variables have linear connections with one another, which could not fully capture the amount of data found in the dataset and result in lower accuracy and larger prediction errors. In conclusion, the Random Forest model performs better in predictions than the Multiple Regression model since it can better handle complicated datasets and capture nonlinear interactions."
   ]
  }
 ],
 "metadata": {
  "kernelspec": {
   "display_name": "Python 3 (ipykernel)",
   "language": "python",
   "name": "python3"
  },
  "language_info": {
   "codemirror_mode": {
    "name": "ipython",
    "version": 3
   },
   "file_extension": ".py",
   "mimetype": "text/x-python",
   "name": "python",
   "nbconvert_exporter": "python",
   "pygments_lexer": "ipython3",
   "version": "3.11.7"
  }
 },
 "nbformat": 4,
 "nbformat_minor": 5
}
